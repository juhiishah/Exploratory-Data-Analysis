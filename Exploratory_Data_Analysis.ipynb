{
 "cells": [
  {
   "cell_type": "markdown",
   "metadata": {
    "id": "mj88RvdDaSAZ"
   },
   "source": [
    "## Crime against women in India\n",
    "This project contains the data record of all types of crime against women in India in the span year 2001-2014."
   ]
  },
  {
   "cell_type": "code",
   "execution_count": null,
   "metadata": {
    "id": "7fN3FOGSas2a"
   },
   "outputs": [],
   "source": [
    "!pip install opendatasets --upgrade --quiet"
   ]
  },
  {
   "cell_type": "code",
   "execution_count": null,
   "metadata": {
    "colab": {
     "base_uri": "https://localhost:8080/"
    },
    "id": "O5hk1mTra08x",
    "outputId": "9c7255fc-021e-4913-8ed1-81fa5e49fa13"
   },
   "outputs": [
    {
     "name": "stdout",
     "output_type": "stream",
     "text": [
      "Please provide your Kaggle credentials to download this dataset. Learn more: http://bit.ly/kaggle-creds\n",
      "Your Kaggle username: juhishah11\n",
      "Your Kaggle Key: ··········\n",
      "Downloading crime-against-women-20012014-india.zip to ./crime-against-women-20012014-india\n"
     ]
    },
    {
     "name": "stderr",
     "output_type": "stream",
     "text": [
      "100%|██████████| 174k/174k [00:00<00:00, 27.8MB/s]"
     ]
    },
    {
     "name": "stdout",
     "output_type": "stream",
     "text": [
      "\n"
     ]
    },
    {
     "name": "stderr",
     "output_type": "stream",
     "text": [
      "\n"
     ]
    }
   ],
   "source": [
    "import opendatasets as od\n",
    "download_url = \"https://www.kaggle.com/datasets/greeshmagirish/crime-against-women-20012014-india\"\n",
    "od.download(download_url)"
   ]
  },
  {
   "cell_type": "code",
   "execution_count": null,
   "metadata": {
    "id": "XjmZNDzWbGR_"
   },
   "outputs": [],
   "source": [
    "!pip install pandas --upgrade --quiet\n",
    "!pip install matplotlib --quiet\n",
    "!pip install seaborn --quiet"
   ]
  },
  {
   "cell_type": "code",
   "execution_count": null,
   "metadata": {
    "id": "liPXvb5DbhY9"
   },
   "outputs": [],
   "source": [
    "import pandas as pd\n",
    "import numpy as np\n",
    "import matplotlib.pyplot as plt\n",
    "import seaborn as sns\n",
    "%matplotlib inline"
   ]
  },
  {
   "cell_type": "code",
   "execution_count": null,
   "metadata": {
    "id": "W2fnQjaEbukm"
   },
   "outputs": [],
   "source": [
    "data_filename = '/content/crime-against-women-20012014-india/crimes_against_women_2001-2014.csv'"
   ]
  },
  {
   "cell_type": "code",
   "execution_count": null,
   "metadata": {
    "id": "yAUX_oRNb3-d"
   },
   "outputs": [],
   "source": [
    "crime_df = pd.read_csv(data_filename)"
   ]
  },
  {
   "cell_type": "code",
   "execution_count": null,
   "metadata": {
    "colab": {
     "base_uri": "https://localhost:8080/",
     "height": 589
    },
    "id": "7N0vHpL_b-c7",
    "outputId": "828500a3-14c3-4dec-8ed0-2685fd812232"
   },
   "outputs": [
    {
     "data": {
      "text/html": [
       "\n",
       "  <div id=\"df-11561ef0-7c7f-4991-8809-0cfcb2670244\">\n",
       "    <div class=\"colab-df-container\">\n",
       "      <div>\n",
       "<style scoped>\n",
       "    .dataframe tbody tr th:only-of-type {\n",
       "        vertical-align: middle;\n",
       "    }\n",
       "\n",
       "    .dataframe tbody tr th {\n",
       "        vertical-align: top;\n",
       "    }\n",
       "\n",
       "    .dataframe thead th {\n",
       "        text-align: right;\n",
       "    }\n",
       "</style>\n",
       "<table border=\"1\" class=\"dataframe\">\n",
       "  <thead>\n",
       "    <tr style=\"text-align: right;\">\n",
       "      <th></th>\n",
       "      <th>Unnamed: 0</th>\n",
       "      <th>STATE/UT</th>\n",
       "      <th>DISTRICT</th>\n",
       "      <th>Year</th>\n",
       "      <th>Rape</th>\n",
       "      <th>Kidnapping and Abduction</th>\n",
       "      <th>Dowry Deaths</th>\n",
       "      <th>Assault on women with intent to outrage her modesty</th>\n",
       "      <th>Insult to modesty of Women</th>\n",
       "      <th>Cruelty by Husband or his Relatives</th>\n",
       "      <th>Importation of Girls</th>\n",
       "    </tr>\n",
       "  </thead>\n",
       "  <tbody>\n",
       "    <tr>\n",
       "      <th>0</th>\n",
       "      <td>0</td>\n",
       "      <td>ANDHRA PRADESH</td>\n",
       "      <td>ADILABAD</td>\n",
       "      <td>2001</td>\n",
       "      <td>50</td>\n",
       "      <td>30</td>\n",
       "      <td>16</td>\n",
       "      <td>149</td>\n",
       "      <td>34</td>\n",
       "      <td>175</td>\n",
       "      <td>0</td>\n",
       "    </tr>\n",
       "    <tr>\n",
       "      <th>1</th>\n",
       "      <td>1</td>\n",
       "      <td>ANDHRA PRADESH</td>\n",
       "      <td>ANANTAPUR</td>\n",
       "      <td>2001</td>\n",
       "      <td>23</td>\n",
       "      <td>30</td>\n",
       "      <td>7</td>\n",
       "      <td>118</td>\n",
       "      <td>24</td>\n",
       "      <td>154</td>\n",
       "      <td>0</td>\n",
       "    </tr>\n",
       "    <tr>\n",
       "      <th>2</th>\n",
       "      <td>2</td>\n",
       "      <td>ANDHRA PRADESH</td>\n",
       "      <td>CHITTOOR</td>\n",
       "      <td>2001</td>\n",
       "      <td>27</td>\n",
       "      <td>34</td>\n",
       "      <td>14</td>\n",
       "      <td>112</td>\n",
       "      <td>83</td>\n",
       "      <td>186</td>\n",
       "      <td>0</td>\n",
       "    </tr>\n",
       "    <tr>\n",
       "      <th>3</th>\n",
       "      <td>3</td>\n",
       "      <td>ANDHRA PRADESH</td>\n",
       "      <td>CUDDAPAH</td>\n",
       "      <td>2001</td>\n",
       "      <td>20</td>\n",
       "      <td>20</td>\n",
       "      <td>17</td>\n",
       "      <td>126</td>\n",
       "      <td>38</td>\n",
       "      <td>57</td>\n",
       "      <td>0</td>\n",
       "    </tr>\n",
       "    <tr>\n",
       "      <th>4</th>\n",
       "      <td>4</td>\n",
       "      <td>ANDHRA PRADESH</td>\n",
       "      <td>EAST GODAVARI</td>\n",
       "      <td>2001</td>\n",
       "      <td>23</td>\n",
       "      <td>26</td>\n",
       "      <td>12</td>\n",
       "      <td>109</td>\n",
       "      <td>58</td>\n",
       "      <td>247</td>\n",
       "      <td>0</td>\n",
       "    </tr>\n",
       "    <tr>\n",
       "      <th>...</th>\n",
       "      <td>...</td>\n",
       "      <td>...</td>\n",
       "      <td>...</td>\n",
       "      <td>...</td>\n",
       "      <td>...</td>\n",
       "      <td>...</td>\n",
       "      <td>...</td>\n",
       "      <td>...</td>\n",
       "      <td>...</td>\n",
       "      <td>...</td>\n",
       "      <td>...</td>\n",
       "    </tr>\n",
       "    <tr>\n",
       "      <th>10672</th>\n",
       "      <td>832</td>\n",
       "      <td>Lakshadweep</td>\n",
       "      <td>Lakshadweep</td>\n",
       "      <td>2014</td>\n",
       "      <td>1</td>\n",
       "      <td>0</td>\n",
       "      <td>0</td>\n",
       "      <td>1</td>\n",
       "      <td>2</td>\n",
       "      <td>0</td>\n",
       "      <td>0</td>\n",
       "    </tr>\n",
       "    <tr>\n",
       "      <th>10673</th>\n",
       "      <td>833</td>\n",
       "      <td>Lakshadweep</td>\n",
       "      <td>Total District(s)</td>\n",
       "      <td>2014</td>\n",
       "      <td>1</td>\n",
       "      <td>0</td>\n",
       "      <td>0</td>\n",
       "      <td>1</td>\n",
       "      <td>2</td>\n",
       "      <td>0</td>\n",
       "      <td>0</td>\n",
       "    </tr>\n",
       "    <tr>\n",
       "      <th>10674</th>\n",
       "      <td>834</td>\n",
       "      <td>Puducherry</td>\n",
       "      <td>Karaikal</td>\n",
       "      <td>2014</td>\n",
       "      <td>3</td>\n",
       "      <td>1</td>\n",
       "      <td>0</td>\n",
       "      <td>12</td>\n",
       "      <td>1</td>\n",
       "      <td>1</td>\n",
       "      <td>0</td>\n",
       "    </tr>\n",
       "    <tr>\n",
       "      <th>10675</th>\n",
       "      <td>835</td>\n",
       "      <td>Puducherry</td>\n",
       "      <td>Puducherry</td>\n",
       "      <td>2014</td>\n",
       "      <td>7</td>\n",
       "      <td>6</td>\n",
       "      <td>1</td>\n",
       "      <td>20</td>\n",
       "      <td>7</td>\n",
       "      <td>3</td>\n",
       "      <td>0</td>\n",
       "    </tr>\n",
       "    <tr>\n",
       "      <th>10676</th>\n",
       "      <td>836</td>\n",
       "      <td>Puducherry</td>\n",
       "      <td>Total District(s)</td>\n",
       "      <td>2014</td>\n",
       "      <td>10</td>\n",
       "      <td>7</td>\n",
       "      <td>1</td>\n",
       "      <td>32</td>\n",
       "      <td>8</td>\n",
       "      <td>4</td>\n",
       "      <td>0</td>\n",
       "    </tr>\n",
       "  </tbody>\n",
       "</table>\n",
       "<p>10677 rows × 11 columns</p>\n",
       "</div>\n",
       "      <button class=\"colab-df-convert\" onclick=\"convertToInteractive('df-11561ef0-7c7f-4991-8809-0cfcb2670244')\"\n",
       "              title=\"Convert this dataframe to an interactive table.\"\n",
       "              style=\"display:none;\">\n",
       "        \n",
       "  <svg xmlns=\"http://www.w3.org/2000/svg\" height=\"24px\"viewBox=\"0 0 24 24\"\n",
       "       width=\"24px\">\n",
       "    <path d=\"M0 0h24v24H0V0z\" fill=\"none\"/>\n",
       "    <path d=\"M18.56 5.44l.94 2.06.94-2.06 2.06-.94-2.06-.94-.94-2.06-.94 2.06-2.06.94zm-11 1L8.5 8.5l.94-2.06 2.06-.94-2.06-.94L8.5 2.5l-.94 2.06-2.06.94zm10 10l.94 2.06.94-2.06 2.06-.94-2.06-.94-.94-2.06-.94 2.06-2.06.94z\"/><path d=\"M17.41 7.96l-1.37-1.37c-.4-.4-.92-.59-1.43-.59-.52 0-1.04.2-1.43.59L10.3 9.45l-7.72 7.72c-.78.78-.78 2.05 0 2.83L4 21.41c.39.39.9.59 1.41.59.51 0 1.02-.2 1.41-.59l7.78-7.78 2.81-2.81c.8-.78.8-2.07 0-2.86zM5.41 20L4 18.59l7.72-7.72 1.47 1.35L5.41 20z\"/>\n",
       "  </svg>\n",
       "      </button>\n",
       "      \n",
       "  <style>\n",
       "    .colab-df-container {\n",
       "      display:flex;\n",
       "      flex-wrap:wrap;\n",
       "      gap: 12px;\n",
       "    }\n",
       "\n",
       "    .colab-df-convert {\n",
       "      background-color: #E8F0FE;\n",
       "      border: none;\n",
       "      border-radius: 50%;\n",
       "      cursor: pointer;\n",
       "      display: none;\n",
       "      fill: #1967D2;\n",
       "      height: 32px;\n",
       "      padding: 0 0 0 0;\n",
       "      width: 32px;\n",
       "    }\n",
       "\n",
       "    .colab-df-convert:hover {\n",
       "      background-color: #E2EBFA;\n",
       "      box-shadow: 0px 1px 2px rgba(60, 64, 67, 0.3), 0px 1px 3px 1px rgba(60, 64, 67, 0.15);\n",
       "      fill: #174EA6;\n",
       "    }\n",
       "\n",
       "    [theme=dark] .colab-df-convert {\n",
       "      background-color: #3B4455;\n",
       "      fill: #D2E3FC;\n",
       "    }\n",
       "\n",
       "    [theme=dark] .colab-df-convert:hover {\n",
       "      background-color: #434B5C;\n",
       "      box-shadow: 0px 1px 3px 1px rgba(0, 0, 0, 0.15);\n",
       "      filter: drop-shadow(0px 1px 2px rgba(0, 0, 0, 0.3));\n",
       "      fill: #FFFFFF;\n",
       "    }\n",
       "  </style>\n",
       "\n",
       "      <script>\n",
       "        const buttonEl =\n",
       "          document.querySelector('#df-11561ef0-7c7f-4991-8809-0cfcb2670244 button.colab-df-convert');\n",
       "        buttonEl.style.display =\n",
       "          google.colab.kernel.accessAllowed ? 'block' : 'none';\n",
       "\n",
       "        async function convertToInteractive(key) {\n",
       "          const element = document.querySelector('#df-11561ef0-7c7f-4991-8809-0cfcb2670244');\n",
       "          const dataTable =\n",
       "            await google.colab.kernel.invokeFunction('convertToInteractive',\n",
       "                                                     [key], {});\n",
       "          if (!dataTable) return;\n",
       "\n",
       "          const docLinkHtml = 'Like what you see? Visit the ' +\n",
       "            '<a target=\"_blank\" href=https://colab.research.google.com/notebooks/data_table.ipynb>data table notebook</a>'\n",
       "            + ' to learn more about interactive tables.';\n",
       "          element.innerHTML = '';\n",
       "          dataTable['output_type'] = 'display_data';\n",
       "          await google.colab.output.renderOutput(dataTable, element);\n",
       "          const docLink = document.createElement('div');\n",
       "          docLink.innerHTML = docLinkHtml;\n",
       "          element.appendChild(docLink);\n",
       "        }\n",
       "      </script>\n",
       "    </div>\n",
       "  </div>\n",
       "  "
      ],
      "text/plain": [
       "       Unnamed: 0        STATE/UT           DISTRICT  Year  Rape  \\\n",
       "0               0  ANDHRA PRADESH           ADILABAD  2001    50   \n",
       "1               1  ANDHRA PRADESH          ANANTAPUR  2001    23   \n",
       "2               2  ANDHRA PRADESH           CHITTOOR  2001    27   \n",
       "3               3  ANDHRA PRADESH           CUDDAPAH  2001    20   \n",
       "4               4  ANDHRA PRADESH      EAST GODAVARI  2001    23   \n",
       "...           ...             ...                ...   ...   ...   \n",
       "10672         832     Lakshadweep        Lakshadweep  2014     1   \n",
       "10673         833     Lakshadweep  Total District(s)  2014     1   \n",
       "10674         834      Puducherry           Karaikal  2014     3   \n",
       "10675         835      Puducherry         Puducherry  2014     7   \n",
       "10676         836      Puducherry  Total District(s)  2014    10   \n",
       "\n",
       "       Kidnapping and Abduction  Dowry Deaths  \\\n",
       "0                            30            16   \n",
       "1                            30             7   \n",
       "2                            34            14   \n",
       "3                            20            17   \n",
       "4                            26            12   \n",
       "...                         ...           ...   \n",
       "10672                         0             0   \n",
       "10673                         0             0   \n",
       "10674                         1             0   \n",
       "10675                         6             1   \n",
       "10676                         7             1   \n",
       "\n",
       "       Assault on women with intent to outrage her modesty  \\\n",
       "0                                                    149     \n",
       "1                                                    118     \n",
       "2                                                    112     \n",
       "3                                                    126     \n",
       "4                                                    109     \n",
       "...                                                  ...     \n",
       "10672                                                  1     \n",
       "10673                                                  1     \n",
       "10674                                                 12     \n",
       "10675                                                 20     \n",
       "10676                                                 32     \n",
       "\n",
       "       Insult to modesty of Women  Cruelty by Husband or his Relatives  \\\n",
       "0                              34                                  175   \n",
       "1                              24                                  154   \n",
       "2                              83                                  186   \n",
       "3                              38                                   57   \n",
       "4                              58                                  247   \n",
       "...                           ...                                  ...   \n",
       "10672                           2                                    0   \n",
       "10673                           2                                    0   \n",
       "10674                           1                                    1   \n",
       "10675                           7                                    3   \n",
       "10676                           8                                    4   \n",
       "\n",
       "       Importation of Girls  \n",
       "0                         0  \n",
       "1                         0  \n",
       "2                         0  \n",
       "3                         0  \n",
       "4                         0  \n",
       "...                     ...  \n",
       "10672                     0  \n",
       "10673                     0  \n",
       "10674                     0  \n",
       "10675                     0  \n",
       "10676                     0  \n",
       "\n",
       "[10677 rows x 11 columns]"
      ]
     },
     "execution_count": 8,
     "metadata": {},
     "output_type": "execute_result"
    }
   ],
   "source": [
    "crime_df"
   ]
  },
  {
   "cell_type": "code",
   "execution_count": null,
   "metadata": {
    "colab": {
     "base_uri": "https://localhost:8080/"
    },
    "id": "sYYSMG6Xb_1Z",
    "outputId": "85ad3542-d1fc-4538-922a-9bd5b1576b78"
   },
   "outputs": [
    {
     "data": {
      "text/plain": [
       "Index(['Unnamed: 0', 'STATE/UT', 'DISTRICT', 'Year', 'Rape',\n",
       "       'Kidnapping and Abduction', 'Dowry Deaths',\n",
       "       'Assault on women with intent to outrage her modesty',\n",
       "       'Insult to modesty of Women', 'Cruelty by Husband or his Relatives',\n",
       "       'Importation of Girls'],\n",
       "      dtype='object')"
      ]
     },
     "execution_count": 9,
     "metadata": {},
     "output_type": "execute_result"
    }
   ],
   "source": [
    "crime_df.columns"
   ]
  },
  {
   "cell_type": "markdown",
   "metadata": {
    "id": "4Gb3kGcEcYDy"
   },
   "source": [
    "### Data Preparation and Cleaning\n",
    "To start with the very basic of data cleaning, let's find out if any of the columns have any null values"
   ]
  },
  {
   "cell_type": "code",
   "execution_count": null,
   "metadata": {
    "colab": {
     "base_uri": "https://localhost:8080/"
    },
    "id": "lHt8kVk5cMaz",
    "outputId": "906d91e0-1a9e-4871-f1bf-b1e1c81a89e2"
   },
   "outputs": [
    {
     "data": {
      "text/plain": [
       "Unnamed: 0                                             0\n",
       "STATE/UT                                               0\n",
       "DISTRICT                                               0\n",
       "Year                                                   0\n",
       "Rape                                                   0\n",
       "Kidnapping and Abduction                               0\n",
       "Dowry Deaths                                           0\n",
       "Assault on women with intent to outrage her modesty    0\n",
       "Insult to modesty of Women                             0\n",
       "Cruelty by Husband or his Relatives                    0\n",
       "Importation of Girls                                   0\n",
       "dtype: int64"
      ]
     },
     "execution_count": 10,
     "metadata": {},
     "output_type": "execute_result"
    }
   ],
   "source": [
    "crime_df.isna().sum()"
   ]
  },
  {
   "cell_type": "markdown",
   "metadata": {
    "id": "dYMHwaxUcwfl"
   },
   "source": [
    "#### Now let's find the total number of unique districts, where the crimes have been committed"
   ]
  },
  {
   "cell_type": "code",
   "execution_count": null,
   "metadata": {
    "id": "p8aMQBTIcsu8"
   },
   "outputs": [],
   "source": [
    "district = crime_df.DISTRICT.unique()"
   ]
  },
  {
   "cell_type": "code",
   "execution_count": null,
   "metadata": {
    "colab": {
     "base_uri": "https://localhost:8080/"
    },
    "id": "79aD-cbddFPB",
    "outputId": "b5a8ff14-9512-4aab-b5f4-3e13ea0fb603"
   },
   "outputs": [
    {
     "data": {
      "text/plain": [
       "1605"
      ]
     },
     "execution_count": 12,
     "metadata": {},
     "output_type": "execute_result"
    }
   ],
   "source": [
    "len(district)"
   ]
  },
  {
   "cell_type": "markdown",
   "metadata": {
    "id": "mBNj_ZfidK-e"
   },
   "source": [
    "#### But there are 718 districts in India, in total, which means there is messy or false datas in a huge amount, in this case, we better drop the column \"District\" and also \"Unnamed: 0\", as it is of no use, in our data analysis process."
   ]
  },
  {
   "cell_type": "code",
   "execution_count": null,
   "metadata": {
    "id": "QrazcqzxdGxa"
   },
   "outputs": [],
   "source": [
    "crime_df = crime_df.drop(['DISTRICT','Unnamed: 0'], axis=1)"
   ]
  },
  {
   "cell_type": "code",
   "execution_count": null,
   "metadata": {
    "id": "aMhvIqwGdYyG"
   },
   "outputs": [],
   "source": [
    "crime_df = crime_df.rename( columns = {'Kidnapping and Abduction':'Kidnapping_Abduction','Dowry Deaths':'Dowry_Deaths',\n",
    "                             'Assault on women with intent to outrage her modesty':'Hurting_of_womens_modesty',\n",
    "                             'Insult to modesty of Women':'Insult_to_womens_modesty',\n",
    "                             'Cruelty by Husband or his Relatives':'Domestic_Cruelty',\n",
    "                             'Importation of Girls':'Importation_of_Girls'})"
   ]
  },
  {
   "cell_type": "code",
   "execution_count": null,
   "metadata": {
    "colab": {
     "base_uri": "https://localhost:8080/",
     "height": 468
    },
    "id": "DiJOjMu-dsJo",
    "outputId": "15363fbd-c84e-46d2-ca43-60a1ae364a59"
   },
   "outputs": [
    {
     "data": {
      "text/html": [
       "\n",
       "  <div id=\"df-ad9c91c5-f330-4097-99c1-32d3a181edb5\">\n",
       "    <div class=\"colab-df-container\">\n",
       "      <div>\n",
       "<style scoped>\n",
       "    .dataframe tbody tr th:only-of-type {\n",
       "        vertical-align: middle;\n",
       "    }\n",
       "\n",
       "    .dataframe tbody tr th {\n",
       "        vertical-align: top;\n",
       "    }\n",
       "\n",
       "    .dataframe thead th {\n",
       "        text-align: right;\n",
       "    }\n",
       "</style>\n",
       "<table border=\"1\" class=\"dataframe\">\n",
       "  <thead>\n",
       "    <tr style=\"text-align: right;\">\n",
       "      <th></th>\n",
       "      <th>STATE/UT</th>\n",
       "      <th>Year</th>\n",
       "      <th>Rape</th>\n",
       "      <th>Kidnapping_Abduction</th>\n",
       "      <th>Dowry_Deaths</th>\n",
       "      <th>Hurting_of_womens_modesty</th>\n",
       "      <th>Insult_to_womens_modesty</th>\n",
       "      <th>Domestic_Cruelty</th>\n",
       "      <th>Importation_of_Girls</th>\n",
       "    </tr>\n",
       "  </thead>\n",
       "  <tbody>\n",
       "    <tr>\n",
       "      <th>0</th>\n",
       "      <td>ANDHRA PRADESH</td>\n",
       "      <td>2001</td>\n",
       "      <td>50</td>\n",
       "      <td>30</td>\n",
       "      <td>16</td>\n",
       "      <td>149</td>\n",
       "      <td>34</td>\n",
       "      <td>175</td>\n",
       "      <td>0</td>\n",
       "    </tr>\n",
       "    <tr>\n",
       "      <th>1</th>\n",
       "      <td>ANDHRA PRADESH</td>\n",
       "      <td>2001</td>\n",
       "      <td>23</td>\n",
       "      <td>30</td>\n",
       "      <td>7</td>\n",
       "      <td>118</td>\n",
       "      <td>24</td>\n",
       "      <td>154</td>\n",
       "      <td>0</td>\n",
       "    </tr>\n",
       "    <tr>\n",
       "      <th>2</th>\n",
       "      <td>ANDHRA PRADESH</td>\n",
       "      <td>2001</td>\n",
       "      <td>27</td>\n",
       "      <td>34</td>\n",
       "      <td>14</td>\n",
       "      <td>112</td>\n",
       "      <td>83</td>\n",
       "      <td>186</td>\n",
       "      <td>0</td>\n",
       "    </tr>\n",
       "    <tr>\n",
       "      <th>3</th>\n",
       "      <td>ANDHRA PRADESH</td>\n",
       "      <td>2001</td>\n",
       "      <td>20</td>\n",
       "      <td>20</td>\n",
       "      <td>17</td>\n",
       "      <td>126</td>\n",
       "      <td>38</td>\n",
       "      <td>57</td>\n",
       "      <td>0</td>\n",
       "    </tr>\n",
       "    <tr>\n",
       "      <th>4</th>\n",
       "      <td>ANDHRA PRADESH</td>\n",
       "      <td>2001</td>\n",
       "      <td>23</td>\n",
       "      <td>26</td>\n",
       "      <td>12</td>\n",
       "      <td>109</td>\n",
       "      <td>58</td>\n",
       "      <td>247</td>\n",
       "      <td>0</td>\n",
       "    </tr>\n",
       "    <tr>\n",
       "      <th>...</th>\n",
       "      <td>...</td>\n",
       "      <td>...</td>\n",
       "      <td>...</td>\n",
       "      <td>...</td>\n",
       "      <td>...</td>\n",
       "      <td>...</td>\n",
       "      <td>...</td>\n",
       "      <td>...</td>\n",
       "      <td>...</td>\n",
       "    </tr>\n",
       "    <tr>\n",
       "      <th>10672</th>\n",
       "      <td>Lakshadweep</td>\n",
       "      <td>2014</td>\n",
       "      <td>1</td>\n",
       "      <td>0</td>\n",
       "      <td>0</td>\n",
       "      <td>1</td>\n",
       "      <td>2</td>\n",
       "      <td>0</td>\n",
       "      <td>0</td>\n",
       "    </tr>\n",
       "    <tr>\n",
       "      <th>10673</th>\n",
       "      <td>Lakshadweep</td>\n",
       "      <td>2014</td>\n",
       "      <td>1</td>\n",
       "      <td>0</td>\n",
       "      <td>0</td>\n",
       "      <td>1</td>\n",
       "      <td>2</td>\n",
       "      <td>0</td>\n",
       "      <td>0</td>\n",
       "    </tr>\n",
       "    <tr>\n",
       "      <th>10674</th>\n",
       "      <td>Puducherry</td>\n",
       "      <td>2014</td>\n",
       "      <td>3</td>\n",
       "      <td>1</td>\n",
       "      <td>0</td>\n",
       "      <td>12</td>\n",
       "      <td>1</td>\n",
       "      <td>1</td>\n",
       "      <td>0</td>\n",
       "    </tr>\n",
       "    <tr>\n",
       "      <th>10675</th>\n",
       "      <td>Puducherry</td>\n",
       "      <td>2014</td>\n",
       "      <td>7</td>\n",
       "      <td>6</td>\n",
       "      <td>1</td>\n",
       "      <td>20</td>\n",
       "      <td>7</td>\n",
       "      <td>3</td>\n",
       "      <td>0</td>\n",
       "    </tr>\n",
       "    <tr>\n",
       "      <th>10676</th>\n",
       "      <td>Puducherry</td>\n",
       "      <td>2014</td>\n",
       "      <td>10</td>\n",
       "      <td>7</td>\n",
       "      <td>1</td>\n",
       "      <td>32</td>\n",
       "      <td>8</td>\n",
       "      <td>4</td>\n",
       "      <td>0</td>\n",
       "    </tr>\n",
       "  </tbody>\n",
       "</table>\n",
       "<p>10677 rows × 9 columns</p>\n",
       "</div>\n",
       "      <button class=\"colab-df-convert\" onclick=\"convertToInteractive('df-ad9c91c5-f330-4097-99c1-32d3a181edb5')\"\n",
       "              title=\"Convert this dataframe to an interactive table.\"\n",
       "              style=\"display:none;\">\n",
       "        \n",
       "  <svg xmlns=\"http://www.w3.org/2000/svg\" height=\"24px\"viewBox=\"0 0 24 24\"\n",
       "       width=\"24px\">\n",
       "    <path d=\"M0 0h24v24H0V0z\" fill=\"none\"/>\n",
       "    <path d=\"M18.56 5.44l.94 2.06.94-2.06 2.06-.94-2.06-.94-.94-2.06-.94 2.06-2.06.94zm-11 1L8.5 8.5l.94-2.06 2.06-.94-2.06-.94L8.5 2.5l-.94 2.06-2.06.94zm10 10l.94 2.06.94-2.06 2.06-.94-2.06-.94-.94-2.06-.94 2.06-2.06.94z\"/><path d=\"M17.41 7.96l-1.37-1.37c-.4-.4-.92-.59-1.43-.59-.52 0-1.04.2-1.43.59L10.3 9.45l-7.72 7.72c-.78.78-.78 2.05 0 2.83L4 21.41c.39.39.9.59 1.41.59.51 0 1.02-.2 1.41-.59l7.78-7.78 2.81-2.81c.8-.78.8-2.07 0-2.86zM5.41 20L4 18.59l7.72-7.72 1.47 1.35L5.41 20z\"/>\n",
       "  </svg>\n",
       "      </button>\n",
       "      \n",
       "  <style>\n",
       "    .colab-df-container {\n",
       "      display:flex;\n",
       "      flex-wrap:wrap;\n",
       "      gap: 12px;\n",
       "    }\n",
       "\n",
       "    .colab-df-convert {\n",
       "      background-color: #E8F0FE;\n",
       "      border: none;\n",
       "      border-radius: 50%;\n",
       "      cursor: pointer;\n",
       "      display: none;\n",
       "      fill: #1967D2;\n",
       "      height: 32px;\n",
       "      padding: 0 0 0 0;\n",
       "      width: 32px;\n",
       "    }\n",
       "\n",
       "    .colab-df-convert:hover {\n",
       "      background-color: #E2EBFA;\n",
       "      box-shadow: 0px 1px 2px rgba(60, 64, 67, 0.3), 0px 1px 3px 1px rgba(60, 64, 67, 0.15);\n",
       "      fill: #174EA6;\n",
       "    }\n",
       "\n",
       "    [theme=dark] .colab-df-convert {\n",
       "      background-color: #3B4455;\n",
       "      fill: #D2E3FC;\n",
       "    }\n",
       "\n",
       "    [theme=dark] .colab-df-convert:hover {\n",
       "      background-color: #434B5C;\n",
       "      box-shadow: 0px 1px 3px 1px rgba(0, 0, 0, 0.15);\n",
       "      filter: drop-shadow(0px 1px 2px rgba(0, 0, 0, 0.3));\n",
       "      fill: #FFFFFF;\n",
       "    }\n",
       "  </style>\n",
       "\n",
       "      <script>\n",
       "        const buttonEl =\n",
       "          document.querySelector('#df-ad9c91c5-f330-4097-99c1-32d3a181edb5 button.colab-df-convert');\n",
       "        buttonEl.style.display =\n",
       "          google.colab.kernel.accessAllowed ? 'block' : 'none';\n",
       "\n",
       "        async function convertToInteractive(key) {\n",
       "          const element = document.querySelector('#df-ad9c91c5-f330-4097-99c1-32d3a181edb5');\n",
       "          const dataTable =\n",
       "            await google.colab.kernel.invokeFunction('convertToInteractive',\n",
       "                                                     [key], {});\n",
       "          if (!dataTable) return;\n",
       "\n",
       "          const docLinkHtml = 'Like what you see? Visit the ' +\n",
       "            '<a target=\"_blank\" href=https://colab.research.google.com/notebooks/data_table.ipynb>data table notebook</a>'\n",
       "            + ' to learn more about interactive tables.';\n",
       "          element.innerHTML = '';\n",
       "          dataTable['output_type'] = 'display_data';\n",
       "          await google.colab.output.renderOutput(dataTable, element);\n",
       "          const docLink = document.createElement('div');\n",
       "          docLink.innerHTML = docLinkHtml;\n",
       "          element.appendChild(docLink);\n",
       "        }\n",
       "      </script>\n",
       "    </div>\n",
       "  </div>\n",
       "  "
      ],
      "text/plain": [
       "             STATE/UT  Year  Rape  Kidnapping_Abduction  Dowry_Deaths  \\\n",
       "0      ANDHRA PRADESH  2001    50                    30            16   \n",
       "1      ANDHRA PRADESH  2001    23                    30             7   \n",
       "2      ANDHRA PRADESH  2001    27                    34            14   \n",
       "3      ANDHRA PRADESH  2001    20                    20            17   \n",
       "4      ANDHRA PRADESH  2001    23                    26            12   \n",
       "...               ...   ...   ...                   ...           ...   \n",
       "10672     Lakshadweep  2014     1                     0             0   \n",
       "10673     Lakshadweep  2014     1                     0             0   \n",
       "10674      Puducherry  2014     3                     1             0   \n",
       "10675      Puducherry  2014     7                     6             1   \n",
       "10676      Puducherry  2014    10                     7             1   \n",
       "\n",
       "       Hurting_of_womens_modesty  Insult_to_womens_modesty  Domestic_Cruelty  \\\n",
       "0                            149                        34               175   \n",
       "1                            118                        24               154   \n",
       "2                            112                        83               186   \n",
       "3                            126                        38                57   \n",
       "4                            109                        58               247   \n",
       "...                          ...                       ...               ...   \n",
       "10672                          1                         2                 0   \n",
       "10673                          1                         2                 0   \n",
       "10674                         12                         1                 1   \n",
       "10675                         20                         7                 3   \n",
       "10676                         32                         8                 4   \n",
       "\n",
       "       Importation_of_Girls  \n",
       "0                         0  \n",
       "1                         0  \n",
       "2                         0  \n",
       "3                         0  \n",
       "4                         0  \n",
       "...                     ...  \n",
       "10672                     0  \n",
       "10673                     0  \n",
       "10674                     0  \n",
       "10675                     0  \n",
       "10676                     0  \n",
       "\n",
       "[10677 rows x 9 columns]"
      ]
     },
     "execution_count": 15,
     "metadata": {},
     "output_type": "execute_result"
    }
   ],
   "source": [
    "crime_df"
   ]
  },
  {
   "cell_type": "code",
   "execution_count": null,
   "metadata": {
    "colab": {
     "base_uri": "https://localhost:8080/"
    },
    "id": "zW8WJXZ0duL7",
    "outputId": "0086df1b-8bf2-4e2c-a7ed-c4bfa4505c2c"
   },
   "outputs": [
    {
     "data": {
      "text/plain": [
       "array(['ANDHRA PRADESH', 'ARUNACHAL PRADESH', 'ASSAM', 'BIHAR',\n",
       "       'CHHATTISGARH', 'GOA', 'GUJARAT', 'HARYANA', 'HIMACHAL PRADESH',\n",
       "       'JAMMU & KASHMIR', 'JHARKHAND', 'KARNATAKA', 'KERALA',\n",
       "       'MADHYA PRADESH', 'MAHARASHTRA', 'MANIPUR', 'MEGHALAYA', 'MIZORAM',\n",
       "       'NAGALAND', 'ODISHA', 'PUNJAB', 'RAJASTHAN', 'SIKKIM',\n",
       "       'TAMIL NADU', 'TRIPURA', 'UTTAR PRADESH', 'UTTARAKHAND',\n",
       "       'WEST BENGAL', 'A & N ISLANDS', 'CHANDIGARH', 'D & N HAVELI',\n",
       "       'DAMAN & DIU', 'DELHI', 'LAKSHADWEEP', 'PUDUCHERRY',\n",
       "       'Andhra Pradesh', 'Arunachal Pradesh', 'Assam', 'Bihar',\n",
       "       'Chhattisgarh', 'Goa', 'Gujarat', 'Haryana', 'Himachal Pradesh',\n",
       "       'Jammu & Kashmir', 'Jharkhand', 'Karnataka', 'Kerala',\n",
       "       'Madhya Pradesh', 'Maharashtra', 'Manipur', 'Meghalaya', 'Mizoram',\n",
       "       'Nagaland', 'Odisha', 'Punjab', 'Rajasthan', 'Sikkim',\n",
       "       'Tamil Nadu', 'Tripura', 'Uttar Pradesh', 'Uttarakhand',\n",
       "       'West Bengal', 'A&N Islands', 'Chandigarh', 'D&N Haveli',\n",
       "       'Daman & Diu', 'Delhi UT', 'Lakshadweep', 'Puducherry',\n",
       "       'Telangana', 'A & N Islands'], dtype=object)"
      ]
     },
     "execution_count": 16,
     "metadata": {},
     "output_type": "execute_result"
    }
   ],
   "source": [
    "crime_df['STATE/UT'].unique()"
   ]
  },
  {
   "cell_type": "markdown",
   "metadata": {
    "id": "gwi8jCG8hKCJ"
   },
   "source": [
    "#### We can see from above that there are lot many repeated datas, like some of them are repeated again by using capital letters and some of them have issues with space too, like A&N Islands and also Delhi has been repeated again by mentioning it as Delhi UT"
   ]
  },
  {
   "cell_type": "code",
   "execution_count": null,
   "metadata": {
    "id": "N0H1gYEafbld"
   },
   "outputs": [],
   "source": [
    "crime_df[\"STATE/UT\"]=crime_df.apply(lambda row:row['STATE/UT'].replace(\" \",\"\").lower(),axis=1)"
   ]
  },
  {
   "cell_type": "code",
   "execution_count": null,
   "metadata": {
    "id": "4SMAzdEMgRBA"
   },
   "outputs": [],
   "source": [
    "crime_df['STATE/UT'].replace(\"delhiut\",\"delhi\",inplace=True)"
   ]
  },
  {
   "cell_type": "code",
   "execution_count": null,
   "metadata": {
    "id": "SkOTvqyHgkDb"
   },
   "outputs": [],
   "source": [
    "states = crime_df['STATE/UT'].unique()"
   ]
  },
  {
   "cell_type": "code",
   "execution_count": null,
   "metadata": {
    "colab": {
     "base_uri": "https://localhost:8080/"
    },
    "id": "DAmYIRLcg3pm",
    "outputId": "16829603-f182-4365-918c-fea60ead32e2"
   },
   "outputs": [
    {
     "data": {
      "text/plain": [
       "36"
      ]
     },
     "execution_count": 20,
     "metadata": {},
     "output_type": "execute_result"
    }
   ],
   "source": [
    "len(states)"
   ]
  },
  {
   "cell_type": "markdown",
   "metadata": {
    "id": "nFUn4hmWh2w5"
   },
   "source": [
    "# Exploratory Analysis and Visualization"
   ]
  },
  {
   "cell_type": "markdown",
   "metadata": {
    "id": "vnJJKknGh65T"
   },
   "source": [
    "#### Let us find out the total population of women over the years, 2001-2014, who has been a victim of the crime based on their gender."
   ]
  },
  {
   "cell_type": "code",
   "execution_count": null,
   "metadata": {
    "id": "NCilR83Uh6kp"
   },
   "outputs": [],
   "source": [
    "victims_raped = crime_df.Rape.sum()\n",
    "victims_kidnapped_abducted = crime_df.Kidnapping_Abduction.sum()\n",
    "dowery_death = crime_df.Dowry_Deaths.sum()\n",
    "modesty_assault = crime_df.Hurting_of_womens_modesty.sum()\n",
    "insult_to_modesty = crime_df.Insult_to_womens_modesty.sum()\n",
    "domestic_violence = crime_df.Domestic_Cruelty.sum()\n",
    "girls_imported = crime_df.Importation_of_Girls.sum()"
   ]
  },
  {
   "cell_type": "code",
   "execution_count": null,
   "metadata": {
    "colab": {
     "base_uri": "https://localhost:8080/"
    },
    "id": "1mNeQNoKhXoP",
    "outputId": "c7a48f15-f7e1-40cd-8869-d19d50995dc5"
   },
   "outputs": [
    {
     "data": {
      "text/plain": [
       "5194570"
      ]
     },
     "execution_count": 22,
     "metadata": {},
     "output_type": "execute_result"
    }
   ],
   "source": [
    "total_population_of_victim_overall = victims_raped + victims_raped + dowery_death +modesty_assault+ insult_to_modesty + domestic_violence+ girls_imported\n",
    "total_population_of_victim_overall"
   ]
  },
  {
   "cell_type": "markdown",
   "metadata": {
    "id": "taDp9KveiM3N"
   },
   "source": [
    "#### This above analysis potrays a heartbreaking situation of women in our society, as more than 5 million number of females, over the years 2001-2014, have been a victim of assault, violance, rape or even death, in India alone.  "
   ]
  },
  {
   "cell_type": "markdown",
   "metadata": {
    "id": "61yff7-HilCA"
   },
   "source": [
    "# Year by year Analysis"
   ]
  },
  {
   "cell_type": "code",
   "execution_count": null,
   "metadata": {
    "id": "8CEV0DNtc4sK"
   },
   "outputs": [],
   "source": [
    "crime_df['total_crimes']=(crime_df['Rape']+crime_df['Kidnapping_Abduction']+crime_df['Dowry_Deaths']+\n",
    "                       crime_df['Hurting_of_womens_modesty']+\n",
    "                       crime_df['Insult_to_womens_modesty']+crime_df['Domestic_Cruelty']+\n",
    "                       crime_df['Importation_of_Girls'])"
   ]
  },
  {
   "cell_type": "code",
   "execution_count": null,
   "metadata": {
    "colab": {
     "base_uri": "https://localhost:8080/"
    },
    "id": "_sgBSoXLiInX",
    "outputId": "6a16724c-c599-4fef-ec9c-3540df25b15f"
   },
   "outputs": [
    {
     "data": {
      "text/plain": [
       "Index(['STATE/UT', 'Year', 'Rape', 'Kidnapping_Abduction', 'Dowry_Deaths',\n",
       "       'Hurting_of_womens_modesty', 'Insult_to_womens_modesty',\n",
       "       'Domestic_Cruelty', 'Importation_of_Girls', 'total_crimes'],\n",
       "      dtype='object')"
      ]
     },
     "execution_count": 24,
     "metadata": {},
     "output_type": "execute_result"
    }
   ],
   "source": [
    "crime_df.columns"
   ]
  },
  {
   "cell_type": "code",
   "execution_count": null,
   "metadata": {
    "colab": {
     "base_uri": "https://localhost:8080/",
     "height": 554
    },
    "id": "bnbWPUJKisVa",
    "outputId": "2cf00e4a-0d93-4055-cc01-e70dc4d62d60"
   },
   "outputs": [
    {
     "name": "stdout",
     "output_type": "stream",
     "text": [
      "******* Total number of crimes from 2001 to 2014 *******\n",
      "\n"
     ]
    },
    {
     "data": {
      "text/html": [
       "\n",
       "  <div id=\"df-7ec3189c-6b8c-44c4-b949-7e852e529ce7\">\n",
       "    <div class=\"colab-df-container\">\n",
       "      <div>\n",
       "<style scoped>\n",
       "    .dataframe tbody tr th:only-of-type {\n",
       "        vertical-align: middle;\n",
       "    }\n",
       "\n",
       "    .dataframe tbody tr th {\n",
       "        vertical-align: top;\n",
       "    }\n",
       "\n",
       "    .dataframe thead th {\n",
       "        text-align: right;\n",
       "    }\n",
       "</style>\n",
       "<table border=\"1\" class=\"dataframe\">\n",
       "  <thead>\n",
       "    <tr style=\"text-align: right;\">\n",
       "      <th></th>\n",
       "      <th>Rape</th>\n",
       "      <th>Kidnapping_Abduction</th>\n",
       "      <th>Dowry_Deaths</th>\n",
       "      <th>Hurting_of_womens_modesty</th>\n",
       "      <th>Insult_to_womens_modesty</th>\n",
       "      <th>Domestic_Cruelty</th>\n",
       "      <th>Importation_of_Girls</th>\n",
       "      <th>total_crimes</th>\n",
       "    </tr>\n",
       "    <tr>\n",
       "      <th>Year</th>\n",
       "      <th></th>\n",
       "      <th></th>\n",
       "      <th></th>\n",
       "      <th></th>\n",
       "      <th></th>\n",
       "      <th></th>\n",
       "      <th></th>\n",
       "      <th></th>\n",
       "    </tr>\n",
       "  </thead>\n",
       "  <tbody>\n",
       "    <tr>\n",
       "      <th>2001</th>\n",
       "      <td>32150</td>\n",
       "      <td>29290</td>\n",
       "      <td>13702</td>\n",
       "      <td>68248</td>\n",
       "      <td>19492</td>\n",
       "      <td>98340</td>\n",
       "      <td>228</td>\n",
       "      <td>261450</td>\n",
       "    </tr>\n",
       "    <tr>\n",
       "      <th>2002</th>\n",
       "      <td>32746</td>\n",
       "      <td>29012</td>\n",
       "      <td>13644</td>\n",
       "      <td>67886</td>\n",
       "      <td>20310</td>\n",
       "      <td>98474</td>\n",
       "      <td>152</td>\n",
       "      <td>262224</td>\n",
       "    </tr>\n",
       "    <tr>\n",
       "      <th>2003</th>\n",
       "      <td>31694</td>\n",
       "      <td>26592</td>\n",
       "      <td>12416</td>\n",
       "      <td>65878</td>\n",
       "      <td>24650</td>\n",
       "      <td>101406</td>\n",
       "      <td>92</td>\n",
       "      <td>262728</td>\n",
       "    </tr>\n",
       "    <tr>\n",
       "      <th>2004</th>\n",
       "      <td>36466</td>\n",
       "      <td>31156</td>\n",
       "      <td>14052</td>\n",
       "      <td>69134</td>\n",
       "      <td>20002</td>\n",
       "      <td>116242</td>\n",
       "      <td>178</td>\n",
       "      <td>287230</td>\n",
       "    </tr>\n",
       "    <tr>\n",
       "      <th>2005</th>\n",
       "      <td>36718</td>\n",
       "      <td>31500</td>\n",
       "      <td>13574</td>\n",
       "      <td>68350</td>\n",
       "      <td>19968</td>\n",
       "      <td>116638</td>\n",
       "      <td>298</td>\n",
       "      <td>287046</td>\n",
       "    </tr>\n",
       "    <tr>\n",
       "      <th>2006</th>\n",
       "      <td>38696</td>\n",
       "      <td>34828</td>\n",
       "      <td>15236</td>\n",
       "      <td>73234</td>\n",
       "      <td>19932</td>\n",
       "      <td>126256</td>\n",
       "      <td>134</td>\n",
       "      <td>308316</td>\n",
       "    </tr>\n",
       "    <tr>\n",
       "      <th>2007</th>\n",
       "      <td>41474</td>\n",
       "      <td>40832</td>\n",
       "      <td>16186</td>\n",
       "      <td>77468</td>\n",
       "      <td>21900</td>\n",
       "      <td>151860</td>\n",
       "      <td>122</td>\n",
       "      <td>349842</td>\n",
       "    </tr>\n",
       "    <tr>\n",
       "      <th>2008</th>\n",
       "      <td>42934</td>\n",
       "      <td>45878</td>\n",
       "      <td>16344</td>\n",
       "      <td>80826</td>\n",
       "      <td>24428</td>\n",
       "      <td>162688</td>\n",
       "      <td>134</td>\n",
       "      <td>373232</td>\n",
       "    </tr>\n",
       "    <tr>\n",
       "      <th>2009</th>\n",
       "      <td>42794</td>\n",
       "      <td>51482</td>\n",
       "      <td>16766</td>\n",
       "      <td>77422</td>\n",
       "      <td>22018</td>\n",
       "      <td>179092</td>\n",
       "      <td>96</td>\n",
       "      <td>389670</td>\n",
       "    </tr>\n",
       "    <tr>\n",
       "      <th>2010</th>\n",
       "      <td>44344</td>\n",
       "      <td>59590</td>\n",
       "      <td>16782</td>\n",
       "      <td>81226</td>\n",
       "      <td>19922</td>\n",
       "      <td>188082</td>\n",
       "      <td>72</td>\n",
       "      <td>410018</td>\n",
       "    </tr>\n",
       "    <tr>\n",
       "      <th>2011</th>\n",
       "      <td>48412</td>\n",
       "      <td>71130</td>\n",
       "      <td>17236</td>\n",
       "      <td>85936</td>\n",
       "      <td>17140</td>\n",
       "      <td>198270</td>\n",
       "      <td>160</td>\n",
       "      <td>438284</td>\n",
       "    </tr>\n",
       "    <tr>\n",
       "      <th>2012</th>\n",
       "      <td>49846</td>\n",
       "      <td>76524</td>\n",
       "      <td>16466</td>\n",
       "      <td>90702</td>\n",
       "      <td>18346</td>\n",
       "      <td>213054</td>\n",
       "      <td>118</td>\n",
       "      <td>465056</td>\n",
       "    </tr>\n",
       "    <tr>\n",
       "      <th>2013</th>\n",
       "      <td>67414</td>\n",
       "      <td>103762</td>\n",
       "      <td>16166</td>\n",
       "      <td>141478</td>\n",
       "      <td>25178</td>\n",
       "      <td>237732</td>\n",
       "      <td>62</td>\n",
       "      <td>591792</td>\n",
       "    </tr>\n",
       "    <tr>\n",
       "      <th>2014</th>\n",
       "      <td>73470</td>\n",
       "      <td>114622</td>\n",
       "      <td>16910</td>\n",
       "      <td>164470</td>\n",
       "      <td>19470</td>\n",
       "      <td>245754</td>\n",
       "      <td>26</td>\n",
       "      <td>634722</td>\n",
       "    </tr>\n",
       "  </tbody>\n",
       "</table>\n",
       "</div>\n",
       "      <button class=\"colab-df-convert\" onclick=\"convertToInteractive('df-7ec3189c-6b8c-44c4-b949-7e852e529ce7')\"\n",
       "              title=\"Convert this dataframe to an interactive table.\"\n",
       "              style=\"display:none;\">\n",
       "        \n",
       "  <svg xmlns=\"http://www.w3.org/2000/svg\" height=\"24px\"viewBox=\"0 0 24 24\"\n",
       "       width=\"24px\">\n",
       "    <path d=\"M0 0h24v24H0V0z\" fill=\"none\"/>\n",
       "    <path d=\"M18.56 5.44l.94 2.06.94-2.06 2.06-.94-2.06-.94-.94-2.06-.94 2.06-2.06.94zm-11 1L8.5 8.5l.94-2.06 2.06-.94-2.06-.94L8.5 2.5l-.94 2.06-2.06.94zm10 10l.94 2.06.94-2.06 2.06-.94-2.06-.94-.94-2.06-.94 2.06-2.06.94z\"/><path d=\"M17.41 7.96l-1.37-1.37c-.4-.4-.92-.59-1.43-.59-.52 0-1.04.2-1.43.59L10.3 9.45l-7.72 7.72c-.78.78-.78 2.05 0 2.83L4 21.41c.39.39.9.59 1.41.59.51 0 1.02-.2 1.41-.59l7.78-7.78 2.81-2.81c.8-.78.8-2.07 0-2.86zM5.41 20L4 18.59l7.72-7.72 1.47 1.35L5.41 20z\"/>\n",
       "  </svg>\n",
       "      </button>\n",
       "      \n",
       "  <style>\n",
       "    .colab-df-container {\n",
       "      display:flex;\n",
       "      flex-wrap:wrap;\n",
       "      gap: 12px;\n",
       "    }\n",
       "\n",
       "    .colab-df-convert {\n",
       "      background-color: #E8F0FE;\n",
       "      border: none;\n",
       "      border-radius: 50%;\n",
       "      cursor: pointer;\n",
       "      display: none;\n",
       "      fill: #1967D2;\n",
       "      height: 32px;\n",
       "      padding: 0 0 0 0;\n",
       "      width: 32px;\n",
       "    }\n",
       "\n",
       "    .colab-df-convert:hover {\n",
       "      background-color: #E2EBFA;\n",
       "      box-shadow: 0px 1px 2px rgba(60, 64, 67, 0.3), 0px 1px 3px 1px rgba(60, 64, 67, 0.15);\n",
       "      fill: #174EA6;\n",
       "    }\n",
       "\n",
       "    [theme=dark] .colab-df-convert {\n",
       "      background-color: #3B4455;\n",
       "      fill: #D2E3FC;\n",
       "    }\n",
       "\n",
       "    [theme=dark] .colab-df-convert:hover {\n",
       "      background-color: #434B5C;\n",
       "      box-shadow: 0px 1px 3px 1px rgba(0, 0, 0, 0.15);\n",
       "      filter: drop-shadow(0px 1px 2px rgba(0, 0, 0, 0.3));\n",
       "      fill: #FFFFFF;\n",
       "    }\n",
       "  </style>\n",
       "\n",
       "      <script>\n",
       "        const buttonEl =\n",
       "          document.querySelector('#df-7ec3189c-6b8c-44c4-b949-7e852e529ce7 button.colab-df-convert');\n",
       "        buttonEl.style.display =\n",
       "          google.colab.kernel.accessAllowed ? 'block' : 'none';\n",
       "\n",
       "        async function convertToInteractive(key) {\n",
       "          const element = document.querySelector('#df-7ec3189c-6b8c-44c4-b949-7e852e529ce7');\n",
       "          const dataTable =\n",
       "            await google.colab.kernel.invokeFunction('convertToInteractive',\n",
       "                                                     [key], {});\n",
       "          if (!dataTable) return;\n",
       "\n",
       "          const docLinkHtml = 'Like what you see? Visit the ' +\n",
       "            '<a target=\"_blank\" href=https://colab.research.google.com/notebooks/data_table.ipynb>data table notebook</a>'\n",
       "            + ' to learn more about interactive tables.';\n",
       "          element.innerHTML = '';\n",
       "          dataTable['output_type'] = 'display_data';\n",
       "          await google.colab.output.renderOutput(dataTable, element);\n",
       "          const docLink = document.createElement('div');\n",
       "          docLink.innerHTML = docLinkHtml;\n",
       "          element.appendChild(docLink);\n",
       "        }\n",
       "      </script>\n",
       "    </div>\n",
       "  </div>\n",
       "  "
      ],
      "text/plain": [
       "       Rape  Kidnapping_Abduction  Dowry_Deaths  Hurting_of_womens_modesty  \\\n",
       "Year                                                                         \n",
       "2001  32150                 29290         13702                      68248   \n",
       "2002  32746                 29012         13644                      67886   \n",
       "2003  31694                 26592         12416                      65878   \n",
       "2004  36466                 31156         14052                      69134   \n",
       "2005  36718                 31500         13574                      68350   \n",
       "2006  38696                 34828         15236                      73234   \n",
       "2007  41474                 40832         16186                      77468   \n",
       "2008  42934                 45878         16344                      80826   \n",
       "2009  42794                 51482         16766                      77422   \n",
       "2010  44344                 59590         16782                      81226   \n",
       "2011  48412                 71130         17236                      85936   \n",
       "2012  49846                 76524         16466                      90702   \n",
       "2013  67414                103762         16166                     141478   \n",
       "2014  73470                114622         16910                     164470   \n",
       "\n",
       "      Insult_to_womens_modesty  Domestic_Cruelty  Importation_of_Girls  \\\n",
       "Year                                                                     \n",
       "2001                     19492             98340                   228   \n",
       "2002                     20310             98474                   152   \n",
       "2003                     24650            101406                    92   \n",
       "2004                     20002            116242                   178   \n",
       "2005                     19968            116638                   298   \n",
       "2006                     19932            126256                   134   \n",
       "2007                     21900            151860                   122   \n",
       "2008                     24428            162688                   134   \n",
       "2009                     22018            179092                    96   \n",
       "2010                     19922            188082                    72   \n",
       "2011                     17140            198270                   160   \n",
       "2012                     18346            213054                   118   \n",
       "2013                     25178            237732                    62   \n",
       "2014                     19470            245754                    26   \n",
       "\n",
       "      total_crimes  \n",
       "Year                \n",
       "2001        261450  \n",
       "2002        262224  \n",
       "2003        262728  \n",
       "2004        287230  \n",
       "2005        287046  \n",
       "2006        308316  \n",
       "2007        349842  \n",
       "2008        373232  \n",
       "2009        389670  \n",
       "2010        410018  \n",
       "2011        438284  \n",
       "2012        465056  \n",
       "2013        591792  \n",
       "2014        634722  "
      ]
     },
     "execution_count": 25,
     "metadata": {},
     "output_type": "execute_result"
    }
   ],
   "source": [
    "crimes = ['Rape','Kidnapping_Abduction','Dowry_Deaths','Hurting_of_womens_modesty',\n",
    "          'Insult_to_womens_modesty','Domestic_Cruelty','Importation_of_Girls','total_crimes']\n",
    "\n",
    "df_1 = pd.DataFrame()\n",
    "for i in crimes:\n",
    "  df_1[i] = crime_df.groupby(['Year'])[i].sum()\n",
    "\n",
    "print(\"******* Total number of crimes from 2001 to 2014 *******\")\n",
    "print()\n",
    "df_1 "
   ]
  },
  {
   "cell_type": "code",
   "execution_count": null,
   "metadata": {
    "colab": {
     "base_uri": "https://localhost:8080/"
    },
    "id": "8Gnxq8f3Csp5",
    "outputId": "34001f7a-8897-41fa-fdc5-f80d4542b618"
   },
   "outputs": [
    {
     "data": {
      "text/plain": [
       "Index(['STATE/UT', 'Year', 'Rape', 'Kidnapping_Abduction', 'Dowry_Deaths',\n",
       "       'Hurting_of_womens_modesty', 'Insult_to_womens_modesty',\n",
       "       'Domestic_Cruelty', 'Importation_of_Girls', 'total_crimes'],\n",
       "      dtype='object')"
      ]
     },
     "execution_count": 26,
     "metadata": {},
     "output_type": "execute_result"
    }
   ],
   "source": [
    "crime_df.columns"
   ]
  },
  {
   "cell_type": "code",
   "execution_count": null,
   "metadata": {
    "id": "U-_ihzyJboiF"
   },
   "outputs": [],
   "source": [
    "## PLOT YEAR BY YEAR ANALYSIS"
   ]
  },
  {
   "cell_type": "code",
   "execution_count": null,
   "metadata": {
    "colab": {
     "base_uri": "https://localhost:8080/",
     "height": 544
    },
    "id": "y24ubI8SboWR",
    "outputId": "2aabbb23-00c1-4573-93a9-1e0c7db125a1"
   },
   "outputs": [
    {
     "data": {
      "image/png": "[encoded data removed]",
      "text/plain": [
       "<Figure size 1152x576 with 1 Axes>"
      ]
     },
     "metadata": {},
     "output_type": "display_data"
    }
   ],
   "source": [
    "sns.set_theme(style='white',context='notebook')\n",
    "\n",
    "fig=plt.figure(figsize=(16,8))\n",
    "\n",
    "ax=plt.axes()\n",
    "ax.set_facecolor(\"#F2EDD7FF\")\n",
    "fig.patch.set_facecolor(\"#F2EDD7FF\")\n",
    "\n",
    "ax.spines['top'].set_visible(False)\n",
    "ax.spines['left'].set_visible(False)\n",
    "ax.spines['right'].set_visible(False)\n",
    "ax.grid(linestyle=\"--\",axis=\"y\",color='gray')\n",
    "\n",
    "lower_year=2001\n",
    "upper_year=2014\n",
    "arr=[]\n",
    "for i in range(lower_year,upper_year+1):\n",
    "    arr.append(i)\n",
    "arr=np.array(arr)\n",
    "sns.barplot(data=df_1,x=arr,y='total_crimes',palette='rocket_r')\n",
    "ax.set_xticklabels(ax.get_xticklabels(),rotation = 90)\n",
    "plt.text(0.5,540000,\"Crime rate against women increases year by year\",fontweight='bold',fontsize=20)\n",
    "plt.xticks(fontweight='bold')\n",
    "plt.yticks(fontweight='bold')\n",
    "plt.xlabel(\"Year\",fontweight='bold')\n",
    "plt.ylabel(\"total_crimes\",fontweight='bold')\n",
    "plt.title(\"Total Number Of Crimes In Each Year\",fontweight='bold',fontsize=20)\n",
    "plt.show()"
   ]
  },
  {
   "cell_type": "markdown",
   "metadata": {
    "id": "L14LbK8-Rwi8"
   },
   "source": [
    "### Rape Cases"
   ]
  },
  {
   "cell_type": "code",
   "execution_count": null,
   "metadata": {
    "colab": {
     "base_uri": "https://localhost:8080/",
     "height": 581
    },
    "id": "8RY4ef9gHZ13",
    "outputId": "d8b67992-c298-4a06-8a60-c1a65457d894"
   },
   "outputs": [
    {
     "data": {
      "text/plain": [
       "Text(0.5, 1.0, 'Chart of rape cases in India in 2001-2014')"
      ]
     },
     "execution_count": 30,
     "metadata": {},
     "output_type": "execute_result"
    },
    {
     "data": {
      "image/png": "[encoded data removed]",
      "text/plain": [
       "<Figure size 800x600 with 1 Axes>"
      ]
     },
     "metadata": {},
     "output_type": "display_data"
    }
   ],
   "source": [
    "plt.figure(figsize=(8,6),dpi=100)\n",
    "sns.barplot(data=crime_df,x=crime_df.Year,y=crime_df.Rape,ci=None)\n",
    "plt.xlabel(\"Cases of Rape in India\")\n",
    "plt.ylabel(\"Year\")\n",
    "plt.title(\"Chart of rape cases in India in 2001-2014\")\n"
   ]
  },
  {
   "cell_type": "markdown",
   "metadata": {
    "id": "HdZTcd59SPbW"
   },
   "source": [
    "### Kidnapping Abduction Cases"
   ]
  },
  {
   "cell_type": "code",
   "execution_count": null,
   "metadata": {
    "colab": {
     "base_uri": "https://localhost:8080/",
     "height": 581
    },
    "id": "GOnG0m89Isn6",
    "outputId": "b116c742-ba4b-49e5-c370-66d11781a2db"
   },
   "outputs": [
    {
     "data": {
      "text/plain": [
       "Text(0.5, 1.0, 'Chart of Kidnapping and Abduction cases in India in2001 to 2014')"
      ]
     },
     "execution_count": 31,
     "metadata": {},
     "output_type": "execute_result"
    },
    {
     "data": {
      "image/png": "[encoded data removed]",
      "text/plain": [
       "<Figure size 800x600 with 1 Axes>"
      ]
     },
     "metadata": {},
     "output_type": "display_data"
    }
   ],
   "source": [
    "plt.figure(figsize=(8,6),dpi=100)\n",
    "sns.barplot(data=crime_df,x=crime_df.Year,y=crime_df.Kidnapping_Abduction,ci=None)\n",
    "plt.xlabel(\"Cases of Kidnapping in India\")\n",
    "plt.ylabel(\"Year\")\n",
    "plt.title(\"Chart of Kidnapping and Abduction cases in India in2001 to 2014\")"
   ]
  },
  {
   "cell_type": "markdown",
   "metadata": {
    "id": "oaTXc0C7UKb1"
   },
   "source": [
    "### Dowry Death Cases"
   ]
  },
  {
   "cell_type": "code",
   "execution_count": null,
   "metadata": {
    "colab": {
     "base_uri": "https://localhost:8080/",
     "height": 581
    },
    "id": "QY-n9RWASND4",
    "outputId": "84206df9-6584-4ab0-a11a-084adbb4b70e"
   },
   "outputs": [
    {
     "data": {
      "text/plain": [
       "Text(0.5, 1.0, 'Chart of Dowry death cases in India in 2001-2014')"
      ]
     },
     "execution_count": 32,
     "metadata": {},
     "output_type": "execute_result"
    },
    {
     "data": {
      "image/png": "[encoded data removed]",
      "text/plain": [
       "<Figure size 800x600 with 1 Axes>"
      ]
     },
     "metadata": {},
     "output_type": "display_data"
    }
   ],
   "source": [
    "plt.figure(figsize=(8,6),dpi=100)\n",
    "sns.barplot(data=crime_df,x=crime_df.Year,y=crime_df.Dowry_Deaths,ci=None)\n",
    "plt.xlabel(\"Cases of Dowry death in India\")\n",
    "plt.ylabel(\"Year\")\n",
    "plt.title(\"Chart of Dowry death cases in India in 2001-2014\")"
   ]
  },
  {
   "cell_type": "markdown",
   "metadata": {
    "id": "hwgaXHmNSOKU"
   },
   "source": [
    "Assualt Cases"
   ]
  },
  {
   "cell_type": "code",
   "execution_count": null,
   "metadata": {
    "colab": {
     "base_uri": "https://localhost:8080/",
     "height": 581
    },
    "id": "dmxKK9QFUttI",
    "outputId": "d5309faf-a97b-4e08-bd8d-772d36c629e2"
   },
   "outputs": [
    {
     "data": {
      "text/plain": [
       "Text(0.5, 1.0, 'Chart of Assaulting a women for her modesty cases in India in 2001-2014')"
      ]
     },
     "execution_count": 33,
     "metadata": {},
     "output_type": "execute_result"
    },
    {
     "data": {
      "image/png": "[encoded data removed]",
      "text/plain": [
       "<Figure size 800x600 with 1 Axes>"
      ]
     },
     "metadata": {},
     "output_type": "display_data"
    }
   ],
   "source": [
    "plt.figure(figsize=(8,6),dpi=100)\n",
    "sns.barplot(data=crime_df,x=crime_df.Year,y=crime_df.Hurting_of_womens_modesty,ci=None)\n",
    "plt.xlabel(\"Cases of Assaulting a women for her modesty in India\")\n",
    "plt.ylabel(\"Year\")\n",
    "plt.title(\"Chart of Assaulting a women for her modesty cases in India in 2001-2014\")"
   ]
  },
  {
   "cell_type": "markdown",
   "metadata": {
    "id": "pyDPgebtVDTX"
   },
   "source": [
    "### Domestic Violence cases"
   ]
  },
  {
   "cell_type": "code",
   "execution_count": null,
   "metadata": {
    "colab": {
     "base_uri": "https://localhost:8080/",
     "height": 581
    },
    "id": "sNqoNvsZVGzk",
    "outputId": "4918d335-1caf-46a1-d8fa-e9c0aaf3c449"
   },
   "outputs": [
    {
     "data": {
      "text/plain": [
       "Text(0.5, 1.0, 'Chart of Domestic Violence cases in India in 2001-2014')"
      ]
     },
     "execution_count": 34,
     "metadata": {},
     "output_type": "execute_result"
    },
    {
     "data": {
      "image/png": "[encoded data removed]",
      "text/plain": [
       "<Figure size 800x600 with 1 Axes>"
      ]
     },
     "metadata": {},
     "output_type": "display_data"
    }
   ],
   "source": [
    "plt.figure(figsize=(8,6),dpi=100)\n",
    "sns.barplot(data=crime_df,x=crime_df.Year,y=crime_df.Domestic_Cruelty,ci=None)\n",
    "plt.xlabel(\"Cases of Domestic Violence in India\")\n",
    "plt.ylabel(\"Year\")\n",
    "plt.title(\"Chart of Domestic Violence cases in India in 2001-2014\")"
   ]
  },
  {
   "cell_type": "markdown",
   "metadata": {
    "id": "uY8VJ-JoVYXo"
   },
   "source": [
    "### Importation Cases"
   ]
  },
  {
   "cell_type": "code",
   "execution_count": null,
   "metadata": {
    "colab": {
     "base_uri": "https://localhost:8080/",
     "height": 581
    },
    "id": "OMAtHy5BVdZE",
    "outputId": "9ef1ea82-e365-4427-cce6-d56f2d985dfc"
   },
   "outputs": [
    {
     "data": {
      "text/plain": [
       "Text(0.5, 1.0, 'Chart of Importation of girls cases in India in 2001-2014')"
      ]
     },
     "execution_count": 35,
     "metadata": {},
     "output_type": "execute_result"
    },
    {
     "data": {
      "image/png": "[encoded data removed]",
      "text/plain": [
       "<Figure size 800x600 with 1 Axes>"
      ]
     },
     "metadata": {},
     "output_type": "display_data"
    }
   ],
   "source": [
    "plt.figure(figsize=(8,6),dpi=100)\n",
    "sns.barplot(data=crime_df,x=crime_df.Year,y=crime_df.Importation_of_Girls,ci=None)\n",
    "plt.xlabel(\"Cases of Importation of girls in India\")\n",
    "plt.ylabel(\"Year\")\n",
    "plt.title(\"Chart of Importation of girls cases in India in 2001-2014\")"
   ]
  },
  {
   "cell_type": "markdown",
   "metadata": {
    "id": "N93lHUEIVySM"
   },
   "source": [
    "### There are two things to be concluded from the above bar chart -\n",
    "\n",
    "####      1) The cases have incraesed over the years.\n",
    "\n",
    "####       2) 2014 has been the year, where violance against women was reported the maximum, under each of the cases like, rape, domestic violence etc, which can also be proved below, which can also be cross examined with the code below."
   ]
  },
  {
   "cell_type": "code",
   "execution_count": null,
   "metadata": {
    "colab": {
     "base_uri": "https://localhost:8080/",
     "height": 520
    },
    "id": "g9RDr60iVrCs",
    "outputId": "cdd72814-5f1b-4171-b876-0d9be8846536"
   },
   "outputs": [
    {
     "data": {
      "text/html": [
       "\n",
       "  <div id=\"df-703618af-40f4-4f0f-b8a4-6decbeebe5e9\">\n",
       "    <div class=\"colab-df-container\">\n",
       "      <div>\n",
       "<style scoped>\n",
       "    .dataframe tbody tr th:only-of-type {\n",
       "        vertical-align: middle;\n",
       "    }\n",
       "\n",
       "    .dataframe tbody tr th {\n",
       "        vertical-align: top;\n",
       "    }\n",
       "\n",
       "    .dataframe thead th {\n",
       "        text-align: right;\n",
       "    }\n",
       "</style>\n",
       "<table border=\"1\" class=\"dataframe\">\n",
       "  <thead>\n",
       "    <tr style=\"text-align: right;\">\n",
       "      <th></th>\n",
       "      <th>STATE/UT</th>\n",
       "    </tr>\n",
       "    <tr>\n",
       "      <th>Year</th>\n",
       "      <th></th>\n",
       "    </tr>\n",
       "  </thead>\n",
       "  <tbody>\n",
       "    <tr>\n",
       "      <th>2001</th>\n",
       "      <td>716</td>\n",
       "    </tr>\n",
       "    <tr>\n",
       "      <th>2002</th>\n",
       "      <td>719</td>\n",
       "    </tr>\n",
       "    <tr>\n",
       "      <th>2003</th>\n",
       "      <td>728</td>\n",
       "    </tr>\n",
       "    <tr>\n",
       "      <th>2004</th>\n",
       "      <td>729</td>\n",
       "    </tr>\n",
       "    <tr>\n",
       "      <th>2005</th>\n",
       "      <td>733</td>\n",
       "    </tr>\n",
       "    <tr>\n",
       "      <th>2006</th>\n",
       "      <td>740</td>\n",
       "    </tr>\n",
       "    <tr>\n",
       "      <th>2007</th>\n",
       "      <td>743</td>\n",
       "    </tr>\n",
       "    <tr>\n",
       "      <th>2008</th>\n",
       "      <td>761</td>\n",
       "    </tr>\n",
       "    <tr>\n",
       "      <th>2009</th>\n",
       "      <td>767</td>\n",
       "    </tr>\n",
       "    <tr>\n",
       "      <th>2010</th>\n",
       "      <td>779</td>\n",
       "    </tr>\n",
       "    <tr>\n",
       "      <th>2011</th>\n",
       "      <td>791</td>\n",
       "    </tr>\n",
       "    <tr>\n",
       "      <th>2012</th>\n",
       "      <td>811</td>\n",
       "    </tr>\n",
       "    <tr>\n",
       "      <th>2013</th>\n",
       "      <td>823</td>\n",
       "    </tr>\n",
       "    <tr>\n",
       "      <th>2014</th>\n",
       "      <td>837</td>\n",
       "    </tr>\n",
       "  </tbody>\n",
       "</table>\n",
       "</div>\n",
       "      <button class=\"colab-df-convert\" onclick=\"convertToInteractive('df-703618af-40f4-4f0f-b8a4-6decbeebe5e9')\"\n",
       "              title=\"Convert this dataframe to an interactive table.\"\n",
       "              style=\"display:none;\">\n",
       "        \n",
       "  <svg xmlns=\"http://www.w3.org/2000/svg\" height=\"24px\"viewBox=\"0 0 24 24\"\n",
       "       width=\"24px\">\n",
       "    <path d=\"M0 0h24v24H0V0z\" fill=\"none\"/>\n",
       "    <path d=\"M18.56 5.44l.94 2.06.94-2.06 2.06-.94-2.06-.94-.94-2.06-.94 2.06-2.06.94zm-11 1L8.5 8.5l.94-2.06 2.06-.94-2.06-.94L8.5 2.5l-.94 2.06-2.06.94zm10 10l.94 2.06.94-2.06 2.06-.94-2.06-.94-.94-2.06-.94 2.06-2.06.94z\"/><path d=\"M17.41 7.96l-1.37-1.37c-.4-.4-.92-.59-1.43-.59-.52 0-1.04.2-1.43.59L10.3 9.45l-7.72 7.72c-.78.78-.78 2.05 0 2.83L4 21.41c.39.39.9.59 1.41.59.51 0 1.02-.2 1.41-.59l7.78-7.78 2.81-2.81c.8-.78.8-2.07 0-2.86zM5.41 20L4 18.59l7.72-7.72 1.47 1.35L5.41 20z\"/>\n",
       "  </svg>\n",
       "      </button>\n",
       "      \n",
       "  <style>\n",
       "    .colab-df-container {\n",
       "      display:flex;\n",
       "      flex-wrap:wrap;\n",
       "      gap: 12px;\n",
       "    }\n",
       "\n",
       "    .colab-df-convert {\n",
       "      background-color: #E8F0FE;\n",
       "      border: none;\n",
       "      border-radius: 50%;\n",
       "      cursor: pointer;\n",
       "      display: none;\n",
       "      fill: #1967D2;\n",
       "      height: 32px;\n",
       "      padding: 0 0 0 0;\n",
       "      width: 32px;\n",
       "    }\n",
       "\n",
       "    .colab-df-convert:hover {\n",
       "      background-color: #E2EBFA;\n",
       "      box-shadow: 0px 1px 2px rgba(60, 64, 67, 0.3), 0px 1px 3px 1px rgba(60, 64, 67, 0.15);\n",
       "      fill: #174EA6;\n",
       "    }\n",
       "\n",
       "    [theme=dark] .colab-df-convert {\n",
       "      background-color: #3B4455;\n",
       "      fill: #D2E3FC;\n",
       "    }\n",
       "\n",
       "    [theme=dark] .colab-df-convert:hover {\n",
       "      background-color: #434B5C;\n",
       "      box-shadow: 0px 1px 3px 1px rgba(0, 0, 0, 0.15);\n",
       "      filter: drop-shadow(0px 1px 2px rgba(0, 0, 0, 0.3));\n",
       "      fill: #FFFFFF;\n",
       "    }\n",
       "  </style>\n",
       "\n",
       "      <script>\n",
       "        const buttonEl =\n",
       "          document.querySelector('#df-703618af-40f4-4f0f-b8a4-6decbeebe5e9 button.colab-df-convert');\n",
       "        buttonEl.style.display =\n",
       "          google.colab.kernel.accessAllowed ? 'block' : 'none';\n",
       "\n",
       "        async function convertToInteractive(key) {\n",
       "          const element = document.querySelector('#df-703618af-40f4-4f0f-b8a4-6decbeebe5e9');\n",
       "          const dataTable =\n",
       "            await google.colab.kernel.invokeFunction('convertToInteractive',\n",
       "                                                     [key], {});\n",
       "          if (!dataTable) return;\n",
       "\n",
       "          const docLinkHtml = 'Like what you see? Visit the ' +\n",
       "            '<a target=\"_blank\" href=https://colab.research.google.com/notebooks/data_table.ipynb>data table notebook</a>'\n",
       "            + ' to learn more about interactive tables.';\n",
       "          element.innerHTML = '';\n",
       "          dataTable['output_type'] = 'display_data';\n",
       "          await google.colab.output.renderOutput(dataTable, element);\n",
       "          const docLink = document.createElement('div');\n",
       "          docLink.innerHTML = docLinkHtml;\n",
       "          element.appendChild(docLink);\n",
       "        }\n",
       "      </script>\n",
       "    </div>\n",
       "  </div>\n",
       "  "
      ],
      "text/plain": [
       "      STATE/UT\n",
       "Year          \n",
       "2001       716\n",
       "2002       719\n",
       "2003       728\n",
       "2004       729\n",
       "2005       733\n",
       "2006       740\n",
       "2007       743\n",
       "2008       761\n",
       "2009       767\n",
       "2010       779\n",
       "2011       791\n",
       "2012       811\n",
       "2013       823\n",
       "2014       837"
      ]
     },
     "execution_count": 36,
     "metadata": {},
     "output_type": "execute_result"
    }
   ],
   "source": [
    "count_df = crime_df.groupby('Year')[['STATE/UT']].count()\n",
    "count_df"
   ]
  },
  {
   "cell_type": "markdown",
   "metadata": {
    "id": "eEZ54jwcWBH-"
   },
   "source": [
    "#### Let us use seaborn to take help of heatmap to represent how more cases from each state started coming up more frequently with each passing year."
   ]
  },
  {
   "cell_type": "code",
   "execution_count": null,
   "metadata": {
    "colab": {
     "base_uri": "https://localhost:8080/",
     "height": 338
    },
    "id": "Um51_hVCV9Qr",
    "outputId": "b3cc06b2-fc64-4aab-c2d9-076b28d87c6c"
   },
   "outputs": [
    {
     "data": {
      "image/png": "[encoded data removed]",
      "text/plain": [
       "<Figure size 720x360 with 2 Axes>"
      ]
     },
     "metadata": {},
     "output_type": "display_data"
    }
   ],
   "source": [
    "plt.figure(figsize=(10,5))\n",
    "plt.title(\"Total cases reported from every state Year wise\")\n",
    "sns.heatmap(count_df);"
   ]
  },
  {
   "cell_type": "markdown",
   "metadata": {
    "id": "gincY8U3WQDm"
   },
   "source": [
    "#### It gives us the conclusion that overall(cases under each category), from every state, has increased with time, not decreased."
   ]
  },
  {
   "cell_type": "markdown",
   "metadata": {
    "id": "_fcM3PzFWdly"
   },
   "source": [
    "# Asking and Answering Questions"
   ]
  },
  {
   "cell_type": "markdown",
   "metadata": {
    "id": "tyrsJLtwWg-m"
   },
   "source": [
    "### As part of this data analysis, it is very crucial to raise question and find answer to them. Here we will try to find out some of the most essential questions, that will help us in drawing a major conclusion from our dataset."
   ]
  },
  {
   "cell_type": "markdown",
   "metadata": {
    "id": "tnkG4w47WmW9"
   },
   "source": [
    "#### Q . Create a dataframe containing 10 highest reported rape cases in India, in the span of year 2001-2014."
   ]
  },
  {
   "cell_type": "code",
   "execution_count": null,
   "metadata": {
    "colab": {
     "base_uri": "https://localhost:8080/",
     "height": 363
    },
    "id": "HzugA7xNeHZ_",
    "outputId": "94f9c64e-4f24-48a9-f9cf-8e101e16436c"
   },
   "outputs": [
    {
     "data": {
      "text/html": [
       "\n",
       "  <div id=\"df-8c9da5c6-1260-402f-b5ce-694b9e310a45\">\n",
       "    <div class=\"colab-df-container\">\n",
       "      <div>\n",
       "<style scoped>\n",
       "    .dataframe tbody tr th:only-of-type {\n",
       "        vertical-align: middle;\n",
       "    }\n",
       "\n",
       "    .dataframe tbody tr th {\n",
       "        vertical-align: top;\n",
       "    }\n",
       "\n",
       "    .dataframe thead th {\n",
       "        text-align: right;\n",
       "    }\n",
       "</style>\n",
       "<table border=\"1\" class=\"dataframe\">\n",
       "  <thead>\n",
       "    <tr style=\"text-align: right;\">\n",
       "      <th></th>\n",
       "      <th>Rape</th>\n",
       "      <th>STATE/UT</th>\n",
       "      <th>Year</th>\n",
       "    </tr>\n",
       "  </thead>\n",
       "  <tbody>\n",
       "    <tr>\n",
       "      <th>10244</th>\n",
       "      <td>5076</td>\n",
       "      <td>madhyapradesh</td>\n",
       "      <td>2014</td>\n",
       "    </tr>\n",
       "    <tr>\n",
       "      <th>9426</th>\n",
       "      <td>4335</td>\n",
       "      <td>madhyapradesh</td>\n",
       "      <td>2013</td>\n",
       "    </tr>\n",
       "    <tr>\n",
       "      <th>10445</th>\n",
       "      <td>3759</td>\n",
       "      <td>rajasthan</td>\n",
       "      <td>2014</td>\n",
       "    </tr>\n",
       "    <tr>\n",
       "      <th>10595</th>\n",
       "      <td>3467</td>\n",
       "      <td>uttarpradesh</td>\n",
       "      <td>2014</td>\n",
       "    </tr>\n",
       "    <tr>\n",
       "      <th>10291</th>\n",
       "      <td>3438</td>\n",
       "      <td>maharashtra</td>\n",
       "      <td>2014</td>\n",
       "    </tr>\n",
       "    <tr>\n",
       "      <th>8611</th>\n",
       "      <td>3425</td>\n",
       "      <td>madhyapradesh</td>\n",
       "      <td>2012</td>\n",
       "    </tr>\n",
       "    <tr>\n",
       "      <th>7810</th>\n",
       "      <td>3406</td>\n",
       "      <td>madhyapradesh</td>\n",
       "      <td>2011</td>\n",
       "    </tr>\n",
       "    <tr>\n",
       "      <th>9628</th>\n",
       "      <td>3285</td>\n",
       "      <td>rajasthan</td>\n",
       "      <td>2013</td>\n",
       "    </tr>\n",
       "    <tr>\n",
       "      <th>7025</th>\n",
       "      <td>3135</td>\n",
       "      <td>madhyapradesh</td>\n",
       "      <td>2010</td>\n",
       "    </tr>\n",
       "    <tr>\n",
       "      <th>9472</th>\n",
       "      <td>3063</td>\n",
       "      <td>maharashtra</td>\n",
       "      <td>2013</td>\n",
       "    </tr>\n",
       "  </tbody>\n",
       "</table>\n",
       "</div>\n",
       "      <button class=\"colab-df-convert\" onclick=\"convertToInteractive('df-8c9da5c6-1260-402f-b5ce-694b9e310a45')\"\n",
       "              title=\"Convert this dataframe to an interactive table.\"\n",
       "              style=\"display:none;\">\n",
       "        \n",
       "  <svg xmlns=\"http://www.w3.org/2000/svg\" height=\"24px\"viewBox=\"0 0 24 24\"\n",
       "       width=\"24px\">\n",
       "    <path d=\"M0 0h24v24H0V0z\" fill=\"none\"/>\n",
       "    <path d=\"M18.56 5.44l.94 2.06.94-2.06 2.06-.94-2.06-.94-.94-2.06-.94 2.06-2.06.94zm-11 1L8.5 8.5l.94-2.06 2.06-.94-2.06-.94L8.5 2.5l-.94 2.06-2.06.94zm10 10l.94 2.06.94-2.06 2.06-.94-2.06-.94-.94-2.06-.94 2.06-2.06.94z\"/><path d=\"M17.41 7.96l-1.37-1.37c-.4-.4-.92-.59-1.43-.59-.52 0-1.04.2-1.43.59L10.3 9.45l-7.72 7.72c-.78.78-.78 2.05 0 2.83L4 21.41c.39.39.9.59 1.41.59.51 0 1.02-.2 1.41-.59l7.78-7.78 2.81-2.81c.8-.78.8-2.07 0-2.86zM5.41 20L4 18.59l7.72-7.72 1.47 1.35L5.41 20z\"/>\n",
       "  </svg>\n",
       "      </button>\n",
       "      \n",
       "  <style>\n",
       "    .colab-df-container {\n",
       "      display:flex;\n",
       "      flex-wrap:wrap;\n",
       "      gap: 12px;\n",
       "    }\n",
       "\n",
       "    .colab-df-convert {\n",
       "      background-color: #E8F0FE;\n",
       "      border: none;\n",
       "      border-radius: 50%;\n",
       "      cursor: pointer;\n",
       "      display: none;\n",
       "      fill: #1967D2;\n",
       "      height: 32px;\n",
       "      padding: 0 0 0 0;\n",
       "      width: 32px;\n",
       "    }\n",
       "\n",
       "    .colab-df-convert:hover {\n",
       "      background-color: #E2EBFA;\n",
       "      box-shadow: 0px 1px 2px rgba(60, 64, 67, 0.3), 0px 1px 3px 1px rgba(60, 64, 67, 0.15);\n",
       "      fill: #174EA6;\n",
       "    }\n",
       "\n",
       "    [theme=dark] .colab-df-convert {\n",
       "      background-color: #3B4455;\n",
       "      fill: #D2E3FC;\n",
       "    }\n",
       "\n",
       "    [theme=dark] .colab-df-convert:hover {\n",
       "      background-color: #434B5C;\n",
       "      box-shadow: 0px 1px 3px 1px rgba(0, 0, 0, 0.15);\n",
       "      filter: drop-shadow(0px 1px 2px rgba(0, 0, 0, 0.3));\n",
       "      fill: #FFFFFF;\n",
       "    }\n",
       "  </style>\n",
       "\n",
       "      <script>\n",
       "        const buttonEl =\n",
       "          document.querySelector('#df-8c9da5c6-1260-402f-b5ce-694b9e310a45 button.colab-df-convert');\n",
       "        buttonEl.style.display =\n",
       "          google.colab.kernel.accessAllowed ? 'block' : 'none';\n",
       "\n",
       "        async function convertToInteractive(key) {\n",
       "          const element = document.querySelector('#df-8c9da5c6-1260-402f-b5ce-694b9e310a45');\n",
       "          const dataTable =\n",
       "            await google.colab.kernel.invokeFunction('convertToInteractive',\n",
       "                                                     [key], {});\n",
       "          if (!dataTable) return;\n",
       "\n",
       "          const docLinkHtml = 'Like what you see? Visit the ' +\n",
       "            '<a target=\"_blank\" href=https://colab.research.google.com/notebooks/data_table.ipynb>data table notebook</a>'\n",
       "            + ' to learn more about interactive tables.';\n",
       "          element.innerHTML = '';\n",
       "          dataTable['output_type'] = 'display_data';\n",
       "          await google.colab.output.renderOutput(dataTable, element);\n",
       "          const docLink = document.createElement('div');\n",
       "          docLink.innerHTML = docLinkHtml;\n",
       "          element.appendChild(docLink);\n",
       "        }\n",
       "      </script>\n",
       "    </div>\n",
       "  </div>\n",
       "  "
      ],
      "text/plain": [
       "       Rape       STATE/UT  Year\n",
       "10244  5076  madhyapradesh  2014\n",
       "9426   4335  madhyapradesh  2013\n",
       "10445  3759      rajasthan  2014\n",
       "10595  3467   uttarpradesh  2014\n",
       "10291  3438    maharashtra  2014\n",
       "8611   3425  madhyapradesh  2012\n",
       "7810   3406  madhyapradesh  2011\n",
       "9628   3285      rajasthan  2013\n",
       "7025   3135  madhyapradesh  2010\n",
       "9472   3063    maharashtra  2013"
      ]
     },
     "execution_count": 44,
     "metadata": {},
     "output_type": "execute_result"
    }
   ],
   "source": [
    "max_rape_case = crime_df[['Rape','STATE/UT','Year']]\n",
    "max_rape_case.sort_values(by='Rape',ascending=False)[:10]"
   ]
  },
  {
   "cell_type": "markdown",
   "metadata": {
    "id": "tX0uc1gGXIbe"
   },
   "source": [
    "#### We see from the analysis, the top states that reported the maximum number of rape cases, along with the year, in which they occured.\n",
    "#### Where, Madhya Pradesh reported the maximum rape cases in the year 2014."
   ]
  },
  {
   "cell_type": "markdown",
   "metadata": {
    "id": "i6b5BJbKXLtf"
   },
   "source": [
    "### Q. Create a dataframe containing 10 highest reported deaths caused by Dowry cases in India, in the span of year 2001-2014."
   ]
  },
  {
   "cell_type": "code",
   "execution_count": null,
   "metadata": {
    "colab": {
     "base_uri": "https://localhost:8080/",
     "height": 363
    },
    "id": "aiT09L8NW1XT",
    "outputId": "03a203bc-44ba-413b-da26-efb32ffd583e"
   },
   "outputs": [
    {
     "data": {
      "text/html": [
       "\n",
       "  <div id=\"df-741403b0-a947-4dd7-8ce8-7ca8602f979c\">\n",
       "    <div class=\"colab-df-container\">\n",
       "      <div>\n",
       "<style scoped>\n",
       "    .dataframe tbody tr th:only-of-type {\n",
       "        vertical-align: middle;\n",
       "    }\n",
       "\n",
       "    .dataframe tbody tr th {\n",
       "        vertical-align: top;\n",
       "    }\n",
       "\n",
       "    .dataframe thead th {\n",
       "        text-align: right;\n",
       "    }\n",
       "</style>\n",
       "<table border=\"1\" class=\"dataframe\">\n",
       "  <thead>\n",
       "    <tr style=\"text-align: right;\">\n",
       "      <th></th>\n",
       "      <th>Dowry_Deaths</th>\n",
       "      <th>STATE/UT</th>\n",
       "      <th>Year</th>\n",
       "    </tr>\n",
       "  </thead>\n",
       "  <tbody>\n",
       "    <tr>\n",
       "      <th>10595</th>\n",
       "      <td>2469</td>\n",
       "      <td>uttarpradesh</td>\n",
       "      <td>2014</td>\n",
       "    </tr>\n",
       "    <tr>\n",
       "      <th>9760</th>\n",
       "      <td>2335</td>\n",
       "      <td>uttarpradesh</td>\n",
       "      <td>2013</td>\n",
       "    </tr>\n",
       "    <tr>\n",
       "      <th>8132</th>\n",
       "      <td>2322</td>\n",
       "      <td>uttarpradesh</td>\n",
       "      <td>2011</td>\n",
       "    </tr>\n",
       "    <tr>\n",
       "      <th>8938</th>\n",
       "      <td>2244</td>\n",
       "      <td>uttarpradesh</td>\n",
       "      <td>2012</td>\n",
       "    </tr>\n",
       "    <tr>\n",
       "      <th>5796</th>\n",
       "      <td>2237</td>\n",
       "      <td>uttarpradesh</td>\n",
       "      <td>2008</td>\n",
       "    </tr>\n",
       "    <tr>\n",
       "      <th>6563</th>\n",
       "      <td>2232</td>\n",
       "      <td>uttarpradesh</td>\n",
       "      <td>2009</td>\n",
       "    </tr>\n",
       "    <tr>\n",
       "      <th>7342</th>\n",
       "      <td>2217</td>\n",
       "      <td>uttarpradesh</td>\n",
       "      <td>2010</td>\n",
       "    </tr>\n",
       "    <tr>\n",
       "      <th>650</th>\n",
       "      <td>2211</td>\n",
       "      <td>uttarpradesh</td>\n",
       "      <td>2001</td>\n",
       "    </tr>\n",
       "    <tr>\n",
       "      <th>5040</th>\n",
       "      <td>2076</td>\n",
       "      <td>uttarpradesh</td>\n",
       "      <td>2007</td>\n",
       "    </tr>\n",
       "    <tr>\n",
       "      <th>1366</th>\n",
       "      <td>1893</td>\n",
       "      <td>uttarpradesh</td>\n",
       "      <td>2002</td>\n",
       "    </tr>\n",
       "  </tbody>\n",
       "</table>\n",
       "</div>\n",
       "      <button class=\"colab-df-convert\" onclick=\"convertToInteractive('df-741403b0-a947-4dd7-8ce8-7ca8602f979c')\"\n",
       "              title=\"Convert this dataframe to an interactive table.\"\n",
       "              style=\"display:none;\">\n",
       "        \n",
       "  <svg xmlns=\"http://www.w3.org/2000/svg\" height=\"24px\"viewBox=\"0 0 24 24\"\n",
       "       width=\"24px\">\n",
       "    <path d=\"M0 0h24v24H0V0z\" fill=\"none\"/>\n",
       "    <path d=\"M18.56 5.44l.94 2.06.94-2.06 2.06-.94-2.06-.94-.94-2.06-.94 2.06-2.06.94zm-11 1L8.5 8.5l.94-2.06 2.06-.94-2.06-.94L8.5 2.5l-.94 2.06-2.06.94zm10 10l.94 2.06.94-2.06 2.06-.94-2.06-.94-.94-2.06-.94 2.06-2.06.94z\"/><path d=\"M17.41 7.96l-1.37-1.37c-.4-.4-.92-.59-1.43-.59-.52 0-1.04.2-1.43.59L10.3 9.45l-7.72 7.72c-.78.78-.78 2.05 0 2.83L4 21.41c.39.39.9.59 1.41.59.51 0 1.02-.2 1.41-.59l7.78-7.78 2.81-2.81c.8-.78.8-2.07 0-2.86zM5.41 20L4 18.59l7.72-7.72 1.47 1.35L5.41 20z\"/>\n",
       "  </svg>\n",
       "      </button>\n",
       "      \n",
       "  <style>\n",
       "    .colab-df-container {\n",
       "      display:flex;\n",
       "      flex-wrap:wrap;\n",
       "      gap: 12px;\n",
       "    }\n",
       "\n",
       "    .colab-df-convert {\n",
       "      background-color: #E8F0FE;\n",
       "      border: none;\n",
       "      border-radius: 50%;\n",
       "      cursor: pointer;\n",
       "      display: none;\n",
       "      fill: #1967D2;\n",
       "      height: 32px;\n",
       "      padding: 0 0 0 0;\n",
       "      width: 32px;\n",
       "    }\n",
       "\n",
       "    .colab-df-convert:hover {\n",
       "      background-color: #E2EBFA;\n",
       "      box-shadow: 0px 1px 2px rgba(60, 64, 67, 0.3), 0px 1px 3px 1px rgba(60, 64, 67, 0.15);\n",
       "      fill: #174EA6;\n",
       "    }\n",
       "\n",
       "    [theme=dark] .colab-df-convert {\n",
       "      background-color: #3B4455;\n",
       "      fill: #D2E3FC;\n",
       "    }\n",
       "\n",
       "    [theme=dark] .colab-df-convert:hover {\n",
       "      background-color: #434B5C;\n",
       "      box-shadow: 0px 1px 3px 1px rgba(0, 0, 0, 0.15);\n",
       "      filter: drop-shadow(0px 1px 2px rgba(0, 0, 0, 0.3));\n",
       "      fill: #FFFFFF;\n",
       "    }\n",
       "  </style>\n",
       "\n",
       "      <script>\n",
       "        const buttonEl =\n",
       "          document.querySelector('#df-741403b0-a947-4dd7-8ce8-7ca8602f979c button.colab-df-convert');\n",
       "        buttonEl.style.display =\n",
       "          google.colab.kernel.accessAllowed ? 'block' : 'none';\n",
       "\n",
       "        async function convertToInteractive(key) {\n",
       "          const element = document.querySelector('#df-741403b0-a947-4dd7-8ce8-7ca8602f979c');\n",
       "          const dataTable =\n",
       "            await google.colab.kernel.invokeFunction('convertToInteractive',\n",
       "                                                     [key], {});\n",
       "          if (!dataTable) return;\n",
       "\n",
       "          const docLinkHtml = 'Like what you see? Visit the ' +\n",
       "            '<a target=\"_blank\" href=https://colab.research.google.com/notebooks/data_table.ipynb>data table notebook</a>'\n",
       "            + ' to learn more about interactive tables.';\n",
       "          element.innerHTML = '';\n",
       "          dataTable['output_type'] = 'display_data';\n",
       "          await google.colab.output.renderOutput(dataTable, element);\n",
       "          const docLink = document.createElement('div');\n",
       "          docLink.innerHTML = docLinkHtml;\n",
       "          element.appendChild(docLink);\n",
       "        }\n",
       "      </script>\n",
       "    </div>\n",
       "  </div>\n",
       "  "
      ],
      "text/plain": [
       "       Dowry_Deaths      STATE/UT  Year\n",
       "10595          2469  uttarpradesh  2014\n",
       "9760           2335  uttarpradesh  2013\n",
       "8132           2322  uttarpradesh  2011\n",
       "8938           2244  uttarpradesh  2012\n",
       "5796           2237  uttarpradesh  2008\n",
       "6563           2232  uttarpradesh  2009\n",
       "7342           2217  uttarpradesh  2010\n",
       "650            2211  uttarpradesh  2001\n",
       "5040           2076  uttarpradesh  2007\n",
       "1366           1893  uttarpradesh  2002"
      ]
     },
     "execution_count": 45,
     "metadata": {},
     "output_type": "execute_result"
    }
   ],
   "source": [
    "max_dowry_death_cases = crime_df[['Dowry_Deaths','STATE/UT','Year']]\n",
    "max_dowry_death_cases.sort_values(by='Dowry_Deaths',ascending=False)[:10]"
   ]
  },
  {
   "cell_type": "markdown",
   "metadata": {
    "id": "Dpg07SUzXY5T"
   },
   "source": [
    "#### From our analysis, we observe that the highest reported dowry death was in Uttar Pradesh in 2014, with number of reports being 2469.\n",
    "\n",
    "##### One more here to be observed as well is that, Uttar Pradesh is the ONLY state that appears in this list."
   ]
  },
  {
   "cell_type": "markdown",
   "metadata": {
    "id": "0dkTPEzHXvsY"
   },
   "source": [
    "### Q. Create a dataframe containing 10 highest reported Domestic Violance cases in India, in the span of year 2001-2014."
   ]
  },
  {
   "cell_type": "code",
   "execution_count": null,
   "metadata": {
    "colab": {
     "base_uri": "https://localhost:8080/",
     "height": 363
    },
    "id": "2JHZ5BVyfWeT",
    "outputId": "aee3d1f1-2a90-49dd-b2ee-5189ae7d329b"
   },
   "outputs": [
    {
     "data": {
      "text/html": [
       "\n",
       "  <div id=\"df-fc3da094-60c4-49c3-93ab-5b34ff9b34e5\">\n",
       "    <div class=\"colab-df-container\">\n",
       "      <div>\n",
       "<style scoped>\n",
       "    .dataframe tbody tr th:only-of-type {\n",
       "        vertical-align: middle;\n",
       "    }\n",
       "\n",
       "    .dataframe tbody tr th {\n",
       "        vertical-align: top;\n",
       "    }\n",
       "\n",
       "    .dataframe thead th {\n",
       "        text-align: right;\n",
       "    }\n",
       "</style>\n",
       "<table border=\"1\" class=\"dataframe\">\n",
       "  <thead>\n",
       "    <tr style=\"text-align: right;\">\n",
       "      <th></th>\n",
       "      <th>Domestic_Cruelty</th>\n",
       "      <th>STATE/UT</th>\n",
       "      <th>Year</th>\n",
       "    </tr>\n",
       "  </thead>\n",
       "  <tbody>\n",
       "    <tr>\n",
       "      <th>10640</th>\n",
       "      <td>23278</td>\n",
       "      <td>westbengal</td>\n",
       "      <td>2014</td>\n",
       "    </tr>\n",
       "    <tr>\n",
       "      <th>8982</th>\n",
       "      <td>19865</td>\n",
       "      <td>westbengal</td>\n",
       "      <td>2012</td>\n",
       "    </tr>\n",
       "    <tr>\n",
       "      <th>8172</th>\n",
       "      <td>19772</td>\n",
       "      <td>westbengal</td>\n",
       "      <td>2011</td>\n",
       "    </tr>\n",
       "    <tr>\n",
       "      <th>9804</th>\n",
       "      <td>18116</td>\n",
       "      <td>westbengal</td>\n",
       "      <td>2013</td>\n",
       "    </tr>\n",
       "    <tr>\n",
       "      <th>7381</th>\n",
       "      <td>17796</td>\n",
       "      <td>westbengal</td>\n",
       "      <td>2010</td>\n",
       "    </tr>\n",
       "    <tr>\n",
       "      <th>6602</th>\n",
       "      <td>16112</td>\n",
       "      <td>westbengal</td>\n",
       "      <td>2009</td>\n",
       "    </tr>\n",
       "    <tr>\n",
       "      <th>10445</th>\n",
       "      <td>15905</td>\n",
       "      <td>rajasthan</td>\n",
       "      <td>2014</td>\n",
       "    </tr>\n",
       "    <tr>\n",
       "      <th>9628</th>\n",
       "      <td>15094</td>\n",
       "      <td>rajasthan</td>\n",
       "      <td>2013</td>\n",
       "    </tr>\n",
       "    <tr>\n",
       "      <th>9050</th>\n",
       "      <td>15084</td>\n",
       "      <td>andhrapradesh</td>\n",
       "      <td>2013</td>\n",
       "    </tr>\n",
       "    <tr>\n",
       "      <th>5835</th>\n",
       "      <td>13663</td>\n",
       "      <td>westbengal</td>\n",
       "      <td>2008</td>\n",
       "    </tr>\n",
       "  </tbody>\n",
       "</table>\n",
       "</div>\n",
       "      <button class=\"colab-df-convert\" onclick=\"convertToInteractive('df-fc3da094-60c4-49c3-93ab-5b34ff9b34e5')\"\n",
       "              title=\"Convert this dataframe to an interactive table.\"\n",
       "              style=\"display:none;\">\n",
       "        \n",
       "  <svg xmlns=\"http://www.w3.org/2000/svg\" height=\"24px\"viewBox=\"0 0 24 24\"\n",
       "       width=\"24px\">\n",
       "    <path d=\"M0 0h24v24H0V0z\" fill=\"none\"/>\n",
       "    <path d=\"M18.56 5.44l.94 2.06.94-2.06 2.06-.94-2.06-.94-.94-2.06-.94 2.06-2.06.94zm-11 1L8.5 8.5l.94-2.06 2.06-.94-2.06-.94L8.5 2.5l-.94 2.06-2.06.94zm10 10l.94 2.06.94-2.06 2.06-.94-2.06-.94-.94-2.06-.94 2.06-2.06.94z\"/><path d=\"M17.41 7.96l-1.37-1.37c-.4-.4-.92-.59-1.43-.59-.52 0-1.04.2-1.43.59L10.3 9.45l-7.72 7.72c-.78.78-.78 2.05 0 2.83L4 21.41c.39.39.9.59 1.41.59.51 0 1.02-.2 1.41-.59l7.78-7.78 2.81-2.81c.8-.78.8-2.07 0-2.86zM5.41 20L4 18.59l7.72-7.72 1.47 1.35L5.41 20z\"/>\n",
       "  </svg>\n",
       "      </button>\n",
       "      \n",
       "  <style>\n",
       "    .colab-df-container {\n",
       "      display:flex;\n",
       "      flex-wrap:wrap;\n",
       "      gap: 12px;\n",
       "    }\n",
       "\n",
       "    .colab-df-convert {\n",
       "      background-color: #E8F0FE;\n",
       "      border: none;\n",
       "      border-radius: 50%;\n",
       "      cursor: pointer;\n",
       "      display: none;\n",
       "      fill: #1967D2;\n",
       "      height: 32px;\n",
       "      padding: 0 0 0 0;\n",
       "      width: 32px;\n",
       "    }\n",
       "\n",
       "    .colab-df-convert:hover {\n",
       "      background-color: #E2EBFA;\n",
       "      box-shadow: 0px 1px 2px rgba(60, 64, 67, 0.3), 0px 1px 3px 1px rgba(60, 64, 67, 0.15);\n",
       "      fill: #174EA6;\n",
       "    }\n",
       "\n",
       "    [theme=dark] .colab-df-convert {\n",
       "      background-color: #3B4455;\n",
       "      fill: #D2E3FC;\n",
       "    }\n",
       "\n",
       "    [theme=dark] .colab-df-convert:hover {\n",
       "      background-color: #434B5C;\n",
       "      box-shadow: 0px 1px 3px 1px rgba(0, 0, 0, 0.15);\n",
       "      filter: drop-shadow(0px 1px 2px rgba(0, 0, 0, 0.3));\n",
       "      fill: #FFFFFF;\n",
       "    }\n",
       "  </style>\n",
       "\n",
       "      <script>\n",
       "        const buttonEl =\n",
       "          document.querySelector('#df-fc3da094-60c4-49c3-93ab-5b34ff9b34e5 button.colab-df-convert');\n",
       "        buttonEl.style.display =\n",
       "          google.colab.kernel.accessAllowed ? 'block' : 'none';\n",
       "\n",
       "        async function convertToInteractive(key) {\n",
       "          const element = document.querySelector('#df-fc3da094-60c4-49c3-93ab-5b34ff9b34e5');\n",
       "          const dataTable =\n",
       "            await google.colab.kernel.invokeFunction('convertToInteractive',\n",
       "                                                     [key], {});\n",
       "          if (!dataTable) return;\n",
       "\n",
       "          const docLinkHtml = 'Like what you see? Visit the ' +\n",
       "            '<a target=\"_blank\" href=https://colab.research.google.com/notebooks/data_table.ipynb>data table notebook</a>'\n",
       "            + ' to learn more about interactive tables.';\n",
       "          element.innerHTML = '';\n",
       "          dataTable['output_type'] = 'display_data';\n",
       "          await google.colab.output.renderOutput(dataTable, element);\n",
       "          const docLink = document.createElement('div');\n",
       "          docLink.innerHTML = docLinkHtml;\n",
       "          element.appendChild(docLink);\n",
       "        }\n",
       "      </script>\n",
       "    </div>\n",
       "  </div>\n",
       "  "
      ],
      "text/plain": [
       "       Domestic_Cruelty       STATE/UT  Year\n",
       "10640             23278     westbengal  2014\n",
       "8982              19865     westbengal  2012\n",
       "8172              19772     westbengal  2011\n",
       "9804              18116     westbengal  2013\n",
       "7381              17796     westbengal  2010\n",
       "6602              16112     westbengal  2009\n",
       "10445             15905      rajasthan  2014\n",
       "9628              15094      rajasthan  2013\n",
       "9050              15084  andhrapradesh  2013\n",
       "5835              13663     westbengal  2008"
      ]
     },
     "execution_count": 46,
     "metadata": {},
     "output_type": "execute_result"
    }
   ],
   "source": [
    "max_domestic_violance_cases = crime_df[['Domestic_Cruelty','STATE/UT','Year']]\n",
    "max_domestic_violance_cases.sort_values(by='Domestic_Cruelty',ascending=False)[:10]"
   ]
  },
  {
   "cell_type": "markdown",
   "metadata": {
    "id": "DumuLsPRX4xT"
   },
   "source": [
    "#### According to our analysis, we see the maximum cases of Domestic Violance cases came from West Bengal in the year 2014, with number of cases reported being 23278."
   ]
  },
  {
   "cell_type": "markdown",
   "metadata": {
    "id": "tU5JpjU4X6Gq"
   },
   "source": [
    "### Q. Create a dataframe containing 10 highest reported Importation cases in India, in the span of year 2001-2014."
   ]
  },
  {
   "cell_type": "code",
   "execution_count": null,
   "metadata": {
    "colab": {
     "base_uri": "https://localhost:8080/",
     "height": 363
    },
    "id": "ifn24O1ofjsW",
    "outputId": "8c6498cc-7c0e-4261-9811-ab80791374bf"
   },
   "outputs": [
    {
     "data": {
      "text/html": [
       "\n",
       "  <div id=\"df-b528f7d6-c6fe-4520-9c2b-5fdbe21b7bdf\">\n",
       "    <div class=\"colab-df-container\">\n",
       "      <div>\n",
       "<style scoped>\n",
       "    .dataframe tbody tr th:only-of-type {\n",
       "        vertical-align: middle;\n",
       "    }\n",
       "\n",
       "    .dataframe tbody tr th {\n",
       "        vertical-align: top;\n",
       "    }\n",
       "\n",
       "    .dataframe thead th {\n",
       "        text-align: right;\n",
       "    }\n",
       "</style>\n",
       "<table border=\"1\" class=\"dataframe\">\n",
       "  <thead>\n",
       "    <tr style=\"text-align: right;\">\n",
       "      <th></th>\n",
       "      <th>Importation_of_Girls</th>\n",
       "      <th>STATE/UT</th>\n",
       "      <th>Year</th>\n",
       "    </tr>\n",
       "  </thead>\n",
       "  <tbody>\n",
       "    <tr>\n",
       "      <th>115</th>\n",
       "      <td>83</td>\n",
       "      <td>bihar</td>\n",
       "      <td>2001</td>\n",
       "    </tr>\n",
       "    <tr>\n",
       "      <th>3013</th>\n",
       "      <td>74</td>\n",
       "      <td>bihar</td>\n",
       "      <td>2005</td>\n",
       "    </tr>\n",
       "    <tr>\n",
       "      <th>3597</th>\n",
       "      <td>61</td>\n",
       "      <td>westbengal</td>\n",
       "      <td>2005</td>\n",
       "    </tr>\n",
       "    <tr>\n",
       "      <th>3590</th>\n",
       "      <td>60</td>\n",
       "      <td>westbengal</td>\n",
       "      <td>2005</td>\n",
       "    </tr>\n",
       "    <tr>\n",
       "      <th>4486</th>\n",
       "      <td>56</td>\n",
       "      <td>bihar</td>\n",
       "      <td>2007</td>\n",
       "    </tr>\n",
       "    <tr>\n",
       "      <th>3005</th>\n",
       "      <td>48</td>\n",
       "      <td>bihar</td>\n",
       "      <td>2005</td>\n",
       "    </tr>\n",
       "    <tr>\n",
       "      <th>7810</th>\n",
       "      <td>45</td>\n",
       "      <td>madhyapradesh</td>\n",
       "      <td>2011</td>\n",
       "    </tr>\n",
       "    <tr>\n",
       "      <th>3746</th>\n",
       "      <td>42</td>\n",
       "      <td>bihar</td>\n",
       "      <td>2006</td>\n",
       "    </tr>\n",
       "    <tr>\n",
       "      <th>102</th>\n",
       "      <td>39</td>\n",
       "      <td>bihar</td>\n",
       "      <td>2001</td>\n",
       "    </tr>\n",
       "    <tr>\n",
       "      <th>5378</th>\n",
       "      <td>39</td>\n",
       "      <td>jharkhand</td>\n",
       "      <td>2008</td>\n",
       "    </tr>\n",
       "  </tbody>\n",
       "</table>\n",
       "</div>\n",
       "      <button class=\"colab-df-convert\" onclick=\"convertToInteractive('df-b528f7d6-c6fe-4520-9c2b-5fdbe21b7bdf')\"\n",
       "              title=\"Convert this dataframe to an interactive table.\"\n",
       "              style=\"display:none;\">\n",
       "        \n",
       "  <svg xmlns=\"http://www.w3.org/2000/svg\" height=\"24px\"viewBox=\"0 0 24 24\"\n",
       "       width=\"24px\">\n",
       "    <path d=\"M0 0h24v24H0V0z\" fill=\"none\"/>\n",
       "    <path d=\"M18.56 5.44l.94 2.06.94-2.06 2.06-.94-2.06-.94-.94-2.06-.94 2.06-2.06.94zm-11 1L8.5 8.5l.94-2.06 2.06-.94-2.06-.94L8.5 2.5l-.94 2.06-2.06.94zm10 10l.94 2.06.94-2.06 2.06-.94-2.06-.94-.94-2.06-.94 2.06-2.06.94z\"/><path d=\"M17.41 7.96l-1.37-1.37c-.4-.4-.92-.59-1.43-.59-.52 0-1.04.2-1.43.59L10.3 9.45l-7.72 7.72c-.78.78-.78 2.05 0 2.83L4 21.41c.39.39.9.59 1.41.59.51 0 1.02-.2 1.41-.59l7.78-7.78 2.81-2.81c.8-.78.8-2.07 0-2.86zM5.41 20L4 18.59l7.72-7.72 1.47 1.35L5.41 20z\"/>\n",
       "  </svg>\n",
       "      </button>\n",
       "      \n",
       "  <style>\n",
       "    .colab-df-container {\n",
       "      display:flex;\n",
       "      flex-wrap:wrap;\n",
       "      gap: 12px;\n",
       "    }\n",
       "\n",
       "    .colab-df-convert {\n",
       "      background-color: #E8F0FE;\n",
       "      border: none;\n",
       "      border-radius: 50%;\n",
       "      cursor: pointer;\n",
       "      display: none;\n",
       "      fill: #1967D2;\n",
       "      height: 32px;\n",
       "      padding: 0 0 0 0;\n",
       "      width: 32px;\n",
       "    }\n",
       "\n",
       "    .colab-df-convert:hover {\n",
       "      background-color: #E2EBFA;\n",
       "      box-shadow: 0px 1px 2px rgba(60, 64, 67, 0.3), 0px 1px 3px 1px rgba(60, 64, 67, 0.15);\n",
       "      fill: #174EA6;\n",
       "    }\n",
       "\n",
       "    [theme=dark] .colab-df-convert {\n",
       "      background-color: #3B4455;\n",
       "      fill: #D2E3FC;\n",
       "    }\n",
       "\n",
       "    [theme=dark] .colab-df-convert:hover {\n",
       "      background-color: #434B5C;\n",
       "      box-shadow: 0px 1px 3px 1px rgba(0, 0, 0, 0.15);\n",
       "      filter: drop-shadow(0px 1px 2px rgba(0, 0, 0, 0.3));\n",
       "      fill: #FFFFFF;\n",
       "    }\n",
       "  </style>\n",
       "\n",
       "      <script>\n",
       "        const buttonEl =\n",
       "          document.querySelector('#df-b528f7d6-c6fe-4520-9c2b-5fdbe21b7bdf button.colab-df-convert');\n",
       "        buttonEl.style.display =\n",
       "          google.colab.kernel.accessAllowed ? 'block' : 'none';\n",
       "\n",
       "        async function convertToInteractive(key) {\n",
       "          const element = document.querySelector('#df-b528f7d6-c6fe-4520-9c2b-5fdbe21b7bdf');\n",
       "          const dataTable =\n",
       "            await google.colab.kernel.invokeFunction('convertToInteractive',\n",
       "                                                     [key], {});\n",
       "          if (!dataTable) return;\n",
       "\n",
       "          const docLinkHtml = 'Like what you see? Visit the ' +\n",
       "            '<a target=\"_blank\" href=https://colab.research.google.com/notebooks/data_table.ipynb>data table notebook</a>'\n",
       "            + ' to learn more about interactive tables.';\n",
       "          element.innerHTML = '';\n",
       "          dataTable['output_type'] = 'display_data';\n",
       "          await google.colab.output.renderOutput(dataTable, element);\n",
       "          const docLink = document.createElement('div');\n",
       "          docLink.innerHTML = docLinkHtml;\n",
       "          element.appendChild(docLink);\n",
       "        }\n",
       "      </script>\n",
       "    </div>\n",
       "  </div>\n",
       "  "
      ],
      "text/plain": [
       "      Importation_of_Girls       STATE/UT  Year\n",
       "115                     83          bihar  2001\n",
       "3013                    74          bihar  2005\n",
       "3597                    61     westbengal  2005\n",
       "3590                    60     westbengal  2005\n",
       "4486                    56          bihar  2007\n",
       "3005                    48          bihar  2005\n",
       "7810                    45  madhyapradesh  2011\n",
       "3746                    42          bihar  2006\n",
       "102                     39          bihar  2001\n",
       "5378                    39      jharkhand  2008"
      ]
     },
     "execution_count": 47,
     "metadata": {},
     "output_type": "execute_result"
    }
   ],
   "source": [
    "max_importation_case = crime_df[['Importation_of_Girls','STATE/UT','Year']]\n",
    "max_importation_case.sort_values(by='Importation_of_Girls',ascending=False)[:10]"
   ]
  },
  {
   "cell_type": "markdown",
   "metadata": {
    "id": "Jp9Hoe8iZhOx"
   },
   "source": [
    "#### According to our analysis, maximum of Importation of girls has been reported in Bihar in the year 2001"
   ]
  },
  {
   "cell_type": "markdown",
   "metadata": {
    "id": "8TJOZ4_4jBXo"
   },
   "source": [
    "## STATE BY STATE ANALYSIS"
   ]
  },
  {
   "cell_type": "code",
   "execution_count": null,
   "metadata": {
    "colab": {
     "base_uri": "https://localhost:8080/"
    },
    "id": "6tKU9_Gxif8x",
    "outputId": "714c6460-2ffb-438e-c390-7c5b0aa94d83"
   },
   "outputs": [
    {
     "name": "stdout",
     "output_type": "stream",
     "text": [
      "***** Total number of Unique States/Union Territories we have in Data *****\n",
      "\n",
      "Number of states/territories without duplicates:  36\n",
      "\n",
      "['andhrapradesh' 'arunachalpradesh' 'assam' 'bihar' 'chhattisgarh' 'goa'\n",
      " 'gujarat' 'haryana' 'himachalpradesh' 'jammu&kashmir' 'jharkhand'\n",
      " 'karnataka' 'kerala' 'madhyapradesh' 'maharashtra' 'manipur' 'meghalaya'\n",
      " 'mizoram' 'nagaland' 'odisha' 'punjab' 'rajasthan' 'sikkim' 'tamilnadu'\n",
      " 'tripura' 'uttarpradesh' 'uttarakhand' 'westbengal' 'a&nislands'\n",
      " 'chandigarh' 'd&nhaveli' 'daman&diu' 'delhi' 'lakshadweep' 'puducherry'\n",
      " 'telangana']\n"
     ]
    }
   ],
   "source": [
    "print(\"***** Total number of Unique States/Union Territories we have in Data *****\")\n",
    "print()\n",
    "states=crime_df['STATE/UT'].unique()\n",
    "print(\"Number of states/territories without duplicates: \", len(states))\n",
    "print()\n",
    "print(states)"
   ]
  },
  {
   "cell_type": "code",
   "execution_count": null,
   "metadata": {
    "colab": {
     "base_uri": "https://localhost:8080/"
    },
    "id": "p6XdSjO7ifWP",
    "outputId": "f1339808-dbff-4538-82f8-9c6421bd67b9"
   },
   "outputs": [
    {
     "data": {
      "text/plain": [
       "['Rape',\n",
       " 'Kidnapping_Abduction',\n",
       " 'Dowry_Deaths',\n",
       " 'Hurting_of_womens_modesty',\n",
       " 'Insult_to_womens_modesty',\n",
       " 'Domestic_Cruelty',\n",
       " 'Importation_of_Girls',\n",
       " 'total_crimes']"
      ]
     },
     "execution_count": 59,
     "metadata": {},
     "output_type": "execute_result"
    }
   ],
   "source": [
    "crimes"
   ]
  },
  {
   "cell_type": "code",
   "execution_count": null,
   "metadata": {
    "colab": {
     "base_uri": "https://localhost:8080/",
     "height": 1000
    },
    "id": "pldo5IbAjX29",
    "outputId": "7bf855e8-cf1e-44b3-e888-8f05b7bc3e1d"
   },
   "outputs": [
    {
     "name": "stdout",
     "output_type": "stream",
     "text": [
      "***** Each cateogry of crimes in each state from 2001 to 2014 *****\n",
      "\n"
     ]
    },
    {
     "data": {
      "text/html": [
       "\n",
       "  <div id=\"df-ccca7967-441d-4e72-b29c-5d7986edee3e\">\n",
       "    <div class=\"colab-df-container\">\n",
       "      <div>\n",
       "<style scoped>\n",
       "    .dataframe tbody tr th:only-of-type {\n",
       "        vertical-align: middle;\n",
       "    }\n",
       "\n",
       "    .dataframe tbody tr th {\n",
       "        vertical-align: top;\n",
       "    }\n",
       "\n",
       "    .dataframe thead th {\n",
       "        text-align: right;\n",
       "    }\n",
       "</style>\n",
       "<table border=\"1\" class=\"dataframe\">\n",
       "  <thead>\n",
       "    <tr style=\"text-align: right;\">\n",
       "      <th></th>\n",
       "      <th>STATE/UT</th>\n",
       "      <th>Rape</th>\n",
       "      <th>Kidnapping_Abduction</th>\n",
       "      <th>Dowry_Deaths</th>\n",
       "      <th>Hurting_of_womens_modesty</th>\n",
       "      <th>Insult_to_womens_modesty</th>\n",
       "      <th>Domestic_Cruelty</th>\n",
       "      <th>Importation_of_Girls</th>\n",
       "      <th>total_crimes</th>\n",
       "    </tr>\n",
       "  </thead>\n",
       "  <tbody>\n",
       "    <tr>\n",
       "      <th>0</th>\n",
       "      <td>uttarpradesh</td>\n",
       "      <td>51150</td>\n",
       "      <td>135906</td>\n",
       "      <td>57256</td>\n",
       "      <td>91212</td>\n",
       "      <td>53130</td>\n",
       "      <td>193738</td>\n",
       "      <td>6</td>\n",
       "      <td>582398</td>\n",
       "    </tr>\n",
       "    <tr>\n",
       "      <th>1</th>\n",
       "      <td>andhrapradesh</td>\n",
       "      <td>32150</td>\n",
       "      <td>34504</td>\n",
       "      <td>13844</td>\n",
       "      <td>126952</td>\n",
       "      <td>86964</td>\n",
       "      <td>280906</td>\n",
       "      <td>34</td>\n",
       "      <td>575354</td>\n",
       "    </tr>\n",
       "    <tr>\n",
       "      <th>2</th>\n",
       "      <td>westbengal</td>\n",
       "      <td>47876</td>\n",
       "      <td>61158</td>\n",
       "      <td>12308</td>\n",
       "      <td>66908</td>\n",
       "      <td>5348</td>\n",
       "      <td>344124</td>\n",
       "      <td>254</td>\n",
       "      <td>537976</td>\n",
       "    </tr>\n",
       "    <tr>\n",
       "      <th>3</th>\n",
       "      <td>rajasthan</td>\n",
       "      <td>45684</td>\n",
       "      <td>66278</td>\n",
       "      <td>11854</td>\n",
       "      <td>83362</td>\n",
       "      <td>794</td>\n",
       "      <td>262200</td>\n",
       "      <td>14</td>\n",
       "      <td>470186</td>\n",
       "    </tr>\n",
       "    <tr>\n",
       "      <th>4</th>\n",
       "      <td>madhyapradesh</td>\n",
       "      <td>90996</td>\n",
       "      <td>35608</td>\n",
       "      <td>21090</td>\n",
       "      <td>195478</td>\n",
       "      <td>20964</td>\n",
       "      <td>102816</td>\n",
       "      <td>134</td>\n",
       "      <td>467086</td>\n",
       "    </tr>\n",
       "    <tr>\n",
       "      <th>5</th>\n",
       "      <td>maharashtra</td>\n",
       "      <td>48974</td>\n",
       "      <td>30368</td>\n",
       "      <td>9696</td>\n",
       "      <td>114704</td>\n",
       "      <td>32634</td>\n",
       "      <td>193202</td>\n",
       "      <td>6</td>\n",
       "      <td>429584</td>\n",
       "    </tr>\n",
       "    <tr>\n",
       "      <th>6</th>\n",
       "      <td>assam</td>\n",
       "      <td>40190</td>\n",
       "      <td>62074</td>\n",
       "      <td>3268</td>\n",
       "      <td>38256</td>\n",
       "      <td>254</td>\n",
       "      <td>115300</td>\n",
       "      <td>22</td>\n",
       "      <td>259364</td>\n",
       "    </tr>\n",
       "    <tr>\n",
       "      <th>7</th>\n",
       "      <td>kerala</td>\n",
       "      <td>20030</td>\n",
       "      <td>4452</td>\n",
       "      <td>700</td>\n",
       "      <td>80438</td>\n",
       "      <td>7930</td>\n",
       "      <td>111626</td>\n",
       "      <td>0</td>\n",
       "      <td>225176</td>\n",
       "    </tr>\n",
       "    <tr>\n",
       "      <th>8</th>\n",
       "      <td>gujarat</td>\n",
       "      <td>11644</td>\n",
       "      <td>34670</td>\n",
       "      <td>1108</td>\n",
       "      <td>23186</td>\n",
       "      <td>3230</td>\n",
       "      <td>146468</td>\n",
       "      <td>0</td>\n",
       "      <td>220306</td>\n",
       "    </tr>\n",
       "    <tr>\n",
       "      <th>9</th>\n",
       "      <td>bihar</td>\n",
       "      <td>30758</td>\n",
       "      <td>57086</td>\n",
       "      <td>32206</td>\n",
       "      <td>16958</td>\n",
       "      <td>694</td>\n",
       "      <td>69770</td>\n",
       "      <td>904</td>\n",
       "      <td>208376</td>\n",
       "    </tr>\n",
       "    <tr>\n",
       "      <th>10</th>\n",
       "      <td>odisha</td>\n",
       "      <td>30480</td>\n",
       "      <td>25588</td>\n",
       "      <td>10782</td>\n",
       "      <td>80214</td>\n",
       "      <td>7488</td>\n",
       "      <td>49206</td>\n",
       "      <td>36</td>\n",
       "      <td>203794</td>\n",
       "    </tr>\n",
       "    <tr>\n",
       "      <th>11</th>\n",
       "      <td>karnataka</td>\n",
       "      <td>15056</td>\n",
       "      <td>16262</td>\n",
       "      <td>7016</td>\n",
       "      <td>65750</td>\n",
       "      <td>2276</td>\n",
       "      <td>72706</td>\n",
       "      <td>94</td>\n",
       "      <td>179160</td>\n",
       "    </tr>\n",
       "    <tr>\n",
       "      <th>12</th>\n",
       "      <td>tamilnadu</td>\n",
       "      <td>16660</td>\n",
       "      <td>30908</td>\n",
       "      <td>5060</td>\n",
       "      <td>43404</td>\n",
       "      <td>21170</td>\n",
       "      <td>45524</td>\n",
       "      <td>30</td>\n",
       "      <td>162756</td>\n",
       "    </tr>\n",
       "    <tr>\n",
       "      <th>13</th>\n",
       "      <td>delhi</td>\n",
       "      <td>20312</td>\n",
       "      <td>46586</td>\n",
       "      <td>3758</td>\n",
       "      <td>30742</td>\n",
       "      <td>7928</td>\n",
       "      <td>42834</td>\n",
       "      <td>2</td>\n",
       "      <td>152162</td>\n",
       "    </tr>\n",
       "    <tr>\n",
       "      <th>14</th>\n",
       "      <td>haryana</td>\n",
       "      <td>17110</td>\n",
       "      <td>20016</td>\n",
       "      <td>7372</td>\n",
       "      <td>17142</td>\n",
       "      <td>17866</td>\n",
       "      <td>68414</td>\n",
       "      <td>4</td>\n",
       "      <td>147924</td>\n",
       "    </tr>\n",
       "    <tr>\n",
       "      <th>15</th>\n",
       "      <td>chhattisgarh</td>\n",
       "      <td>29308</td>\n",
       "      <td>11808</td>\n",
       "      <td>2758</td>\n",
       "      <td>47096</td>\n",
       "      <td>3968</td>\n",
       "      <td>23436</td>\n",
       "      <td>12</td>\n",
       "      <td>118386</td>\n",
       "    </tr>\n",
       "    <tr>\n",
       "      <th>16</th>\n",
       "      <td>jharkhand</td>\n",
       "      <td>22826</td>\n",
       "      <td>14186</td>\n",
       "      <td>7896</td>\n",
       "      <td>9898</td>\n",
       "      <td>566</td>\n",
       "      <td>23910</td>\n",
       "      <td>298</td>\n",
       "      <td>79580</td>\n",
       "    </tr>\n",
       "    <tr>\n",
       "      <th>17</th>\n",
       "      <td>punjab</td>\n",
       "      <td>14656</td>\n",
       "      <td>15096</td>\n",
       "      <td>3524</td>\n",
       "      <td>12410</td>\n",
       "      <td>1728</td>\n",
       "      <td>30840</td>\n",
       "      <td>4</td>\n",
       "      <td>78258</td>\n",
       "    </tr>\n",
       "    <tr>\n",
       "      <th>18</th>\n",
       "      <td>jammu&amp;kashmir</td>\n",
       "      <td>7038</td>\n",
       "      <td>21164</td>\n",
       "      <td>294</td>\n",
       "      <td>28638</td>\n",
       "      <td>9168</td>\n",
       "      <td>5390</td>\n",
       "      <td>0</td>\n",
       "      <td>71692</td>\n",
       "    </tr>\n",
       "    <tr>\n",
       "      <th>19</th>\n",
       "      <td>tripura</td>\n",
       "      <td>5060</td>\n",
       "      <td>2202</td>\n",
       "      <td>752</td>\n",
       "      <td>7344</td>\n",
       "      <td>114</td>\n",
       "      <td>16086</td>\n",
       "      <td>0</td>\n",
       "      <td>31558</td>\n",
       "    </tr>\n",
       "    <tr>\n",
       "      <th>20</th>\n",
       "      <td>uttarakhand</td>\n",
       "      <td>3752</td>\n",
       "      <td>6484</td>\n",
       "      <td>1974</td>\n",
       "      <td>4366</td>\n",
       "      <td>3190</td>\n",
       "      <td>9756</td>\n",
       "      <td>2</td>\n",
       "      <td>29524</td>\n",
       "    </tr>\n",
       "    <tr>\n",
       "      <th>21</th>\n",
       "      <td>himachalpradesh</td>\n",
       "      <td>4674</td>\n",
       "      <td>4116</td>\n",
       "      <td>112</td>\n",
       "      <td>9256</td>\n",
       "      <td>1220</td>\n",
       "      <td>7796</td>\n",
       "      <td>0</td>\n",
       "      <td>27174</td>\n",
       "    </tr>\n",
       "    <tr>\n",
       "      <th>22</th>\n",
       "      <td>telangana</td>\n",
       "      <td>1958</td>\n",
       "      <td>1422</td>\n",
       "      <td>578</td>\n",
       "      <td>6376</td>\n",
       "      <td>2284</td>\n",
       "      <td>12738</td>\n",
       "      <td>0</td>\n",
       "      <td>25356</td>\n",
       "    </tr>\n",
       "    <tr>\n",
       "      <th>23</th>\n",
       "      <td>chandigarh</td>\n",
       "      <td>770</td>\n",
       "      <td>1682</td>\n",
       "      <td>90</td>\n",
       "      <td>1088</td>\n",
       "      <td>342</td>\n",
       "      <td>2080</td>\n",
       "      <td>0</td>\n",
       "      <td>6052</td>\n",
       "    </tr>\n",
       "    <tr>\n",
       "      <th>24</th>\n",
       "      <td>manipur</td>\n",
       "      <td>1068</td>\n",
       "      <td>2606</td>\n",
       "      <td>6</td>\n",
       "      <td>1322</td>\n",
       "      <td>6</td>\n",
       "      <td>578</td>\n",
       "      <td>0</td>\n",
       "      <td>5586</td>\n",
       "    </tr>\n",
       "    <tr>\n",
       "      <th>25</th>\n",
       "      <td>meghalaya</td>\n",
       "      <td>2642</td>\n",
       "      <td>670</td>\n",
       "      <td>36</td>\n",
       "      <td>1470</td>\n",
       "      <td>124</td>\n",
       "      <td>460</td>\n",
       "      <td>8</td>\n",
       "      <td>5410</td>\n",
       "    </tr>\n",
       "    <tr>\n",
       "      <th>26</th>\n",
       "      <td>arunachalpradesh</td>\n",
       "      <td>1316</td>\n",
       "      <td>1470</td>\n",
       "      <td>6</td>\n",
       "      <td>1996</td>\n",
       "      <td>48</td>\n",
       "      <td>476</td>\n",
       "      <td>0</td>\n",
       "      <td>5312</td>\n",
       "    </tr>\n",
       "    <tr>\n",
       "      <th>27</th>\n",
       "      <td>mizoram</td>\n",
       "      <td>2070</td>\n",
       "      <td>30</td>\n",
       "      <td>8</td>\n",
       "      <td>1988</td>\n",
       "      <td>70</td>\n",
       "      <td>134</td>\n",
       "      <td>6</td>\n",
       "      <td>4306</td>\n",
       "    </tr>\n",
       "    <tr>\n",
       "      <th>28</th>\n",
       "      <td>goa</td>\n",
       "      <td>1062</td>\n",
       "      <td>640</td>\n",
       "      <td>38</td>\n",
       "      <td>1384</td>\n",
       "      <td>468</td>\n",
       "      <td>532</td>\n",
       "      <td>0</td>\n",
       "      <td>4124</td>\n",
       "    </tr>\n",
       "    <tr>\n",
       "      <th>29</th>\n",
       "      <td>puducherry</td>\n",
       "      <td>208</td>\n",
       "      <td>306</td>\n",
       "      <td>56</td>\n",
       "      <td>1314</td>\n",
       "      <td>600</td>\n",
       "      <td>234</td>\n",
       "      <td>0</td>\n",
       "      <td>2718</td>\n",
       "    </tr>\n",
       "    <tr>\n",
       "      <th>30</th>\n",
       "      <td>a&amp;nislands</td>\n",
       "      <td>336</td>\n",
       "      <td>212</td>\n",
       "      <td>20</td>\n",
       "      <td>600</td>\n",
       "      <td>112</td>\n",
       "      <td>288</td>\n",
       "      <td>0</td>\n",
       "      <td>1568</td>\n",
       "    </tr>\n",
       "    <tr>\n",
       "      <th>31</th>\n",
       "      <td>sikkim</td>\n",
       "      <td>570</td>\n",
       "      <td>180</td>\n",
       "      <td>4</td>\n",
       "      <td>586</td>\n",
       "      <td>34</td>\n",
       "      <td>108</td>\n",
       "      <td>0</td>\n",
       "      <td>1482</td>\n",
       "    </tr>\n",
       "    <tr>\n",
       "      <th>32</th>\n",
       "      <td>nagaland</td>\n",
       "      <td>562</td>\n",
       "      <td>190</td>\n",
       "      <td>2</td>\n",
       "      <td>260</td>\n",
       "      <td>24</td>\n",
       "      <td>32</td>\n",
       "      <td>2</td>\n",
       "      <td>1072</td>\n",
       "    </tr>\n",
       "    <tr>\n",
       "      <th>33</th>\n",
       "      <td>d&amp;nhaveli</td>\n",
       "      <td>132</td>\n",
       "      <td>224</td>\n",
       "      <td>2</td>\n",
       "      <td>106</td>\n",
       "      <td>12</td>\n",
       "      <td>90</td>\n",
       "      <td>0</td>\n",
       "      <td>566</td>\n",
       "    </tr>\n",
       "    <tr>\n",
       "      <th>34</th>\n",
       "      <td>daman&amp;diu</td>\n",
       "      <td>60</td>\n",
       "      <td>44</td>\n",
       "      <td>6</td>\n",
       "      <td>40</td>\n",
       "      <td>4</td>\n",
       "      <td>76</td>\n",
       "      <td>0</td>\n",
       "      <td>230</td>\n",
       "    </tr>\n",
       "    <tr>\n",
       "      <th>35</th>\n",
       "      <td>lakshadweep</td>\n",
       "      <td>20</td>\n",
       "      <td>2</td>\n",
       "      <td>0</td>\n",
       "      <td>14</td>\n",
       "      <td>4</td>\n",
       "      <td>14</td>\n",
       "      <td>0</td>\n",
       "      <td>54</td>\n",
       "    </tr>\n",
       "  </tbody>\n",
       "</table>\n",
       "</div>\n",
       "      <button class=\"colab-df-convert\" onclick=\"convertToInteractive('df-ccca7967-441d-4e72-b29c-5d7986edee3e')\"\n",
       "              title=\"Convert this dataframe to an interactive table.\"\n",
       "              style=\"display:none;\">\n",
       "        \n",
       "  <svg xmlns=\"http://www.w3.org/2000/svg\" height=\"24px\"viewBox=\"0 0 24 24\"\n",
       "       width=\"24px\">\n",
       "    <path d=\"M0 0h24v24H0V0z\" fill=\"none\"/>\n",
       "    <path d=\"M18.56 5.44l.94 2.06.94-2.06 2.06-.94-2.06-.94-.94-2.06-.94 2.06-2.06.94zm-11 1L8.5 8.5l.94-2.06 2.06-.94-2.06-.94L8.5 2.5l-.94 2.06-2.06.94zm10 10l.94 2.06.94-2.06 2.06-.94-2.06-.94-.94-2.06-.94 2.06-2.06.94z\"/><path d=\"M17.41 7.96l-1.37-1.37c-.4-.4-.92-.59-1.43-.59-.52 0-1.04.2-1.43.59L10.3 9.45l-7.72 7.72c-.78.78-.78 2.05 0 2.83L4 21.41c.39.39.9.59 1.41.59.51 0 1.02-.2 1.41-.59l7.78-7.78 2.81-2.81c.8-.78.8-2.07 0-2.86zM5.41 20L4 18.59l7.72-7.72 1.47 1.35L5.41 20z\"/>\n",
       "  </svg>\n",
       "      </button>\n",
       "      \n",
       "  <style>\n",
       "    .colab-df-container {\n",
       "      display:flex;\n",
       "      flex-wrap:wrap;\n",
       "      gap: 12px;\n",
       "    }\n",
       "\n",
       "    .colab-df-convert {\n",
       "      background-color: #E8F0FE;\n",
       "      border: none;\n",
       "      border-radius: 50%;\n",
       "      cursor: pointer;\n",
       "      display: none;\n",
       "      fill: #1967D2;\n",
       "      height: 32px;\n",
       "      padding: 0 0 0 0;\n",
       "      width: 32px;\n",
       "    }\n",
       "\n",
       "    .colab-df-convert:hover {\n",
       "      background-color: #E2EBFA;\n",
       "      box-shadow: 0px 1px 2px rgba(60, 64, 67, 0.3), 0px 1px 3px 1px rgba(60, 64, 67, 0.15);\n",
       "      fill: #174EA6;\n",
       "    }\n",
       "\n",
       "    [theme=dark] .colab-df-convert {\n",
       "      background-color: #3B4455;\n",
       "      fill: #D2E3FC;\n",
       "    }\n",
       "\n",
       "    [theme=dark] .colab-df-convert:hover {\n",
       "      background-color: #434B5C;\n",
       "      box-shadow: 0px 1px 3px 1px rgba(0, 0, 0, 0.15);\n",
       "      filter: drop-shadow(0px 1px 2px rgba(0, 0, 0, 0.3));\n",
       "      fill: #FFFFFF;\n",
       "    }\n",
       "  </style>\n",
       "\n",
       "      <script>\n",
       "        const buttonEl =\n",
       "          document.querySelector('#df-ccca7967-441d-4e72-b29c-5d7986edee3e button.colab-df-convert');\n",
       "        buttonEl.style.display =\n",
       "          google.colab.kernel.accessAllowed ? 'block' : 'none';\n",
       "\n",
       "        async function convertToInteractive(key) {\n",
       "          const element = document.querySelector('#df-ccca7967-441d-4e72-b29c-5d7986edee3e');\n",
       "          const dataTable =\n",
       "            await google.colab.kernel.invokeFunction('convertToInteractive',\n",
       "                                                     [key], {});\n",
       "          if (!dataTable) return;\n",
       "\n",
       "          const docLinkHtml = 'Like what you see? Visit the ' +\n",
       "            '<a target=\"_blank\" href=https://colab.research.google.com/notebooks/data_table.ipynb>data table notebook</a>'\n",
       "            + ' to learn more about interactive tables.';\n",
       "          element.innerHTML = '';\n",
       "          dataTable['output_type'] = 'display_data';\n",
       "          await google.colab.output.renderOutput(dataTable, element);\n",
       "          const docLink = document.createElement('div');\n",
       "          docLink.innerHTML = docLinkHtml;\n",
       "          element.appendChild(docLink);\n",
       "        }\n",
       "      </script>\n",
       "    </div>\n",
       "  </div>\n",
       "  "
      ],
      "text/plain": [
       "            STATE/UT   Rape  Kidnapping_Abduction  Dowry_Deaths  \\\n",
       "0       uttarpradesh  51150                135906         57256   \n",
       "1      andhrapradesh  32150                 34504         13844   \n",
       "2         westbengal  47876                 61158         12308   \n",
       "3          rajasthan  45684                 66278         11854   \n",
       "4      madhyapradesh  90996                 35608         21090   \n",
       "5        maharashtra  48974                 30368          9696   \n",
       "6              assam  40190                 62074          3268   \n",
       "7             kerala  20030                  4452           700   \n",
       "8            gujarat  11644                 34670          1108   \n",
       "9              bihar  30758                 57086         32206   \n",
       "10            odisha  30480                 25588         10782   \n",
       "11         karnataka  15056                 16262          7016   \n",
       "12         tamilnadu  16660                 30908          5060   \n",
       "13             delhi  20312                 46586          3758   \n",
       "14           haryana  17110                 20016          7372   \n",
       "15      chhattisgarh  29308                 11808          2758   \n",
       "16         jharkhand  22826                 14186          7896   \n",
       "17            punjab  14656                 15096          3524   \n",
       "18     jammu&kashmir   7038                 21164           294   \n",
       "19           tripura   5060                  2202           752   \n",
       "20       uttarakhand   3752                  6484          1974   \n",
       "21   himachalpradesh   4674                  4116           112   \n",
       "22         telangana   1958                  1422           578   \n",
       "23        chandigarh    770                  1682            90   \n",
       "24           manipur   1068                  2606             6   \n",
       "25         meghalaya   2642                   670            36   \n",
       "26  arunachalpradesh   1316                  1470             6   \n",
       "27           mizoram   2070                    30             8   \n",
       "28               goa   1062                   640            38   \n",
       "29        puducherry    208                   306            56   \n",
       "30        a&nislands    336                   212            20   \n",
       "31            sikkim    570                   180             4   \n",
       "32          nagaland    562                   190             2   \n",
       "33         d&nhaveli    132                   224             2   \n",
       "34         daman&diu     60                    44             6   \n",
       "35       lakshadweep     20                     2             0   \n",
       "\n",
       "    Hurting_of_womens_modesty  Insult_to_womens_modesty  Domestic_Cruelty  \\\n",
       "0                       91212                     53130            193738   \n",
       "1                      126952                     86964            280906   \n",
       "2                       66908                      5348            344124   \n",
       "3                       83362                       794            262200   \n",
       "4                      195478                     20964            102816   \n",
       "5                      114704                     32634            193202   \n",
       "6                       38256                       254            115300   \n",
       "7                       80438                      7930            111626   \n",
       "8                       23186                      3230            146468   \n",
       "9                       16958                       694             69770   \n",
       "10                      80214                      7488             49206   \n",
       "11                      65750                      2276             72706   \n",
       "12                      43404                     21170             45524   \n",
       "13                      30742                      7928             42834   \n",
       "14                      17142                     17866             68414   \n",
       "15                      47096                      3968             23436   \n",
       "16                       9898                       566             23910   \n",
       "17                      12410                      1728             30840   \n",
       "18                      28638                      9168              5390   \n",
       "19                       7344                       114             16086   \n",
       "20                       4366                      3190              9756   \n",
       "21                       9256                      1220              7796   \n",
       "22                       6376                      2284             12738   \n",
       "23                       1088                       342              2080   \n",
       "24                       1322                         6               578   \n",
       "25                       1470                       124               460   \n",
       "26                       1996                        48               476   \n",
       "27                       1988                        70               134   \n",
       "28                       1384                       468               532   \n",
       "29                       1314                       600               234   \n",
       "30                        600                       112               288   \n",
       "31                        586                        34               108   \n",
       "32                        260                        24                32   \n",
       "33                        106                        12                90   \n",
       "34                         40                         4                76   \n",
       "35                         14                         4                14   \n",
       "\n",
       "    Importation_of_Girls  total_crimes  \n",
       "0                      6        582398  \n",
       "1                     34        575354  \n",
       "2                    254        537976  \n",
       "3                     14        470186  \n",
       "4                    134        467086  \n",
       "5                      6        429584  \n",
       "6                     22        259364  \n",
       "7                      0        225176  \n",
       "8                      0        220306  \n",
       "9                    904        208376  \n",
       "10                    36        203794  \n",
       "11                    94        179160  \n",
       "12                    30        162756  \n",
       "13                     2        152162  \n",
       "14                     4        147924  \n",
       "15                    12        118386  \n",
       "16                   298         79580  \n",
       "17                     4         78258  \n",
       "18                     0         71692  \n",
       "19                     0         31558  \n",
       "20                     2         29524  \n",
       "21                     0         27174  \n",
       "22                     0         25356  \n",
       "23                     0          6052  \n",
       "24                     0          5586  \n",
       "25                     8          5410  \n",
       "26                     0          5312  \n",
       "27                     6          4306  \n",
       "28                     0          4124  \n",
       "29                     0          2718  \n",
       "30                     0          1568  \n",
       "31                     0          1482  \n",
       "32                     2          1072  \n",
       "33                     0           566  \n",
       "34                     0           230  \n",
       "35                     0            54  "
      ]
     },
     "execution_count": 60,
     "metadata": {},
     "output_type": "execute_result"
    }
   ],
   "source": [
    "df_state = pd.DataFrame()\n",
    "for i in crimes:\n",
    "  df_state_crimes= crime_df.groupby(['STATE/UT'])[i].sum()\n",
    "  df_state[i] = df_state_crimes\n",
    "\n",
    "print(\"***** Each cateogry of crimes in each state from 2001 to 2014 *****\")\n",
    "print()\n",
    "df_state=df_state.sort_values(by='total_crimes',ascending=False)\n",
    "df_state.reset_index()"
   ]
  },
  {
   "cell_type": "markdown",
   "metadata": {
    "id": "Xp3K5m4UgJGx"
   },
   "source": [
    "### Q. Find out the top 5 states, where maximum numbers of cases has been reported in TOTAL in span of 2001-2014, each category wise.\n",
    "\n",
    "##### For \"Rape\" case -"
   ]
  },
  {
   "cell_type": "code",
   "execution_count": null,
   "metadata": {
    "id": "TNU9gJ-cX0CM"
   },
   "outputs": [],
   "source": [
    "rape_df = crime_df.groupby('STATE/UT')['Rape'].sum()"
   ]
  },
  {
   "cell_type": "code",
   "execution_count": null,
   "metadata": {
    "colab": {
     "base_uri": "https://localhost:8080/"
    },
    "id": "HJEg7sLZaPSI",
    "outputId": "51b33332-7342-4325-ba04-c7b3b409c6bc"
   },
   "outputs": [
    {
     "data": {
      "text/plain": [
       "STATE/UT\n",
       "madhyapradesh    90996\n",
       "uttarpradesh     51150\n",
       "maharashtra      48974\n",
       "westbengal       47876\n",
       "rajasthan        45684\n",
       "Name: Rape, dtype: int64"
      ]
     },
     "execution_count": 49,
     "metadata": {},
     "output_type": "execute_result"
    }
   ],
   "source": [
    "rape_df.sort_values(ascending=False)[:5]"
   ]
  },
  {
   "cell_type": "markdown",
   "metadata": {
    "id": "AOYi-T8Cgesy"
   },
   "source": [
    "#### Madhya Pradesh has reported the highest number of rape cases in TOTAL in span of 2001-2014, where UP, Maharastra, West Bengal and Rajasthan follows the list.\n",
    "\n",
    "##### For Kidnapping and abduction case -"
   ]
  },
  {
   "cell_type": "code",
   "execution_count": null,
   "metadata": {
    "colab": {
     "base_uri": "https://localhost:8080/"
    },
    "id": "GrrF-oyVgn3o",
    "outputId": "56d99c87-4ef0-4177-de01-14ac2fc5d886"
   },
   "outputs": [
    {
     "data": {
      "text/plain": [
       "STATE/UT\n",
       "uttarpradesh    135906\n",
       "rajasthan        66278\n",
       "assam            62074\n",
       "westbengal       61158\n",
       "bihar            57086\n",
       "Name: Kidnapping_Abduction, dtype: int64"
      ]
     },
     "execution_count": 50,
     "metadata": {},
     "output_type": "execute_result"
    }
   ],
   "source": [
    "kidnapping_df = crime_df.groupby('STATE/UT')['Kidnapping_Abduction'].sum()\n",
    "kidnapping_df.sort_values(ascending=False)[:5]"
   ]
  },
  {
   "cell_type": "markdown",
   "metadata": {
    "id": "xEsWKcoyj3mB"
   },
   "source": [
    "#### Uttar Pradesh has reported the highest number of cses under \"Kidnapping and Abduction\" in TOTAL in span of 2001-2014, where Rajasthan, Assam, West Bengal and Bihar follows the list.\n",
    "\n",
    "##### For cases of deaths due to dowry -"
   ]
  },
  {
   "cell_type": "code",
   "execution_count": null,
   "metadata": {
    "colab": {
     "base_uri": "https://localhost:8080/"
    },
    "id": "iJ37uo0paRgI",
    "outputId": "fad2a53d-f6c2-4f1e-812d-332211128b03"
   },
   "outputs": [
    {
     "data": {
      "text/plain": [
       "STATE/UT\n",
       "uttarpradesh     57256\n",
       "bihar            32206\n",
       "madhyapradesh    21090\n",
       "andhrapradesh    13844\n",
       "westbengal       12308\n",
       "Name: Dowry_Deaths, dtype: int64"
      ]
     },
     "execution_count": 51,
     "metadata": {},
     "output_type": "execute_result"
    }
   ],
   "source": [
    "dowry_death_df = crime_df.groupby('STATE/UT')['Dowry_Deaths'].sum()\n",
    "dowry_death_df.sort_values(ascending=False)[:5]"
   ]
  },
  {
   "cell_type": "markdown",
   "metadata": {
    "id": "A9RXW925kTSo"
   },
   "source": [
    "#### Uttar Pradesh has reported the highest number of Deaths caused by Dowry cases in TOTAL in span of 2001-2014, where Bihar, Madhya Pradesh, Andhra Pradesh and  West Bengal follows the list.\n",
    "\n",
    "##### For  Domestic Violance case -"
   ]
  },
  {
   "cell_type": "code",
   "execution_count": null,
   "metadata": {
    "colab": {
     "base_uri": "https://localhost:8080/"
    },
    "id": "cWneXb49kel9",
    "outputId": "22e78279-49cc-49f8-d67d-73a961bf7c5f"
   },
   "outputs": [
    {
     "data": {
      "text/plain": [
       "STATE/UT\n",
       "westbengal       344124\n",
       "andhrapradesh    280906\n",
       "rajasthan        262200\n",
       "uttarpradesh     193738\n",
       "maharashtra      193202\n",
       "Name: Domestic_Cruelty, dtype: int64"
      ]
     },
     "execution_count": 52,
     "metadata": {},
     "output_type": "execute_result"
    }
   ],
   "source": [
    "domestic_df = crime_df.groupby('STATE/UT')['Domestic_Cruelty'].sum()\n",
    "domestic_df.sort_values(ascending=False)[:5]"
   ]
  },
  {
   "cell_type": "markdown",
   "metadata": {
    "id": "iaK6_KEAktYE"
   },
   "source": [
    "#### West Bengal has reported the highest number of cases of Domestic Violence in TOTAL in span of 2001-2014, where Andhra Pradesh, Rajsthan, Uttar Pradesh and  Maharashtra follows the list.\n",
    "\n",
    "\n",
    "##### For Importation of Girls case -"
   ]
  },
  {
   "cell_type": "code",
   "execution_count": null,
   "metadata": {
    "colab": {
     "base_uri": "https://localhost:8080/"
    },
    "id": "VynTPVkOkPcz",
    "outputId": "a0ba0ffc-42fc-4e44-8f64-25acaf6cf0b3"
   },
   "outputs": [
    {
     "data": {
      "text/plain": [
       "STATE/UT\n",
       "bihar            904\n",
       "jharkhand        298\n",
       "westbengal       254\n",
       "madhyapradesh    134\n",
       "karnataka         94\n",
       "Name: Importation_of_Girls, dtype: int64"
      ]
     },
     "execution_count": 53,
     "metadata": {},
     "output_type": "execute_result"
    }
   ],
   "source": [
    "importation_of_girls_df = crime_df.groupby('STATE/UT')['Importation_of_Girls'].sum()\n",
    "importation_of_girls_df.sort_values(ascending=False)[:5]"
   ]
  },
  {
   "cell_type": "markdown",
   "metadata": {
    "id": "PAHn5q_flA5Y"
   },
   "source": [
    "#### Bihar has reported the highest number of Importation of girl's cases in TOTAL in span of 2001-2014, where Jharkhand, West Bengal, Madhya Pradesh and  Karnataka follows the list."
   ]
  },
  {
   "cell_type": "markdown",
   "metadata": {
    "id": "lFTGjvf7iGyM"
   },
   "source": [
    "## COMPARISON BETWEEN 2001 AND 2014"
   ]
  },
  {
   "cell_type": "code",
   "execution_count": null,
   "metadata": {
    "colab": {
     "base_uri": "https://localhost:8080/",
     "height": 507
    },
    "id": "GgZ84vq9lu_W",
    "outputId": "828c635b-ad00-4d65-ce41-df7de389b027"
   },
   "outputs": [
    {
     "data": {
      "image/png": "[encoded data removed]",
      "text/plain": [
       "<Figure size 1440x576 with 2 Axes>"
      ]
     },
     "metadata": {},
     "output_type": "display_data"
    }
   ],
   "source": [
    "df_2001=df_1.loc[df_1.index==2001]\n",
    "df_2014=df_1.loc[df_1.index==2014]\n",
    "\n",
    "df_2001=df_2001.drop([\"total_crimes\"],axis=1)\n",
    "df_2014=df_2014.drop([\"total_crimes\"],axis=1)\n",
    "crimes_in_2001=list(df_2001.iloc[0])\n",
    "crimes_in_2014=list(df_2014.iloc[0])\n",
    "\n",
    "f,ax=plt.subplots(1,2,figsize=(20,8))\n",
    "f.patch.set_facecolor('#F2EDD7FF')\n",
    "#Setting background and foreground color\n",
    "for j in range(0,2):\n",
    "    ax[j].set_facecolor('#F2EDD7FF')\n",
    "    \n",
    "ax[0].pie(crimes_in_2001,autopct='%1.2f%%',shadow=True)\n",
    "ax[0].text(0,1.4,\"2001\",fontweight='bold',fontsize=20)\n",
    "ax[1].pie(crimes_in_2014,autopct='%1.2f%%',shadow=True)\n",
    "ax[0].text(3.4,1.4,\"2014\",fontweight='bold',fontsize=20)\n",
    "ax[0].legend(labels=df_2001.columns,loc='lower right')\n",
    "\n",
    "plt.show()\n"
   ]
  },
  {
   "cell_type": "code",
   "execution_count": null,
   "metadata": {
    "id": "XrzYjhg6g13t"
   },
   "outputs": [],
   "source": []
  }
 ],
 "metadata": {
  "colab": {
   "collapsed_sections": [],
   "name": "Exploratory_Data_Analysis.ipynb",
   "provenance": []
  },
  "kernelspec": {
   "display_name": "Python 3",
   "language": "python",
   "name": "python3"
  },
  "language_info": {
   "codemirror_mode": {
    "name": "ipython",
    "version": 3
   },
   "file_extension": ".py",
   "mimetype": "text/x-python",
   "name": "python",
   "nbconvert_exporter": "python",
   "pygments_lexer": "ipython3",
   "version": "3.8.5"
  }
 },
 "nbformat": 4,
 "nbformat_minor": 1
}
